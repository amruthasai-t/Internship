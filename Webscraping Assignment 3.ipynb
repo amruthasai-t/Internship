{
 "cells": [
  {
   "cell_type": "code",
   "execution_count": 7,
   "metadata": {},
   "outputs": [],
   "source": [
    "import selenium\n",
    "import pandas as pd\n",
    "from selenium import webdriver\n",
    "import warnings\n",
    "warnings.filterwarnings('ignore')\n",
    "from selenium.webdriver.common.by import By\n",
    "import time\n",
    "from selenium.common.exceptions import StaleElementReferenceException, NoSuchElementException\n",
    "import pandas as pd\n",
    "from selenium.webdriver.support.ui import WebDriverWait\n",
    "from selenium.webdriver.support import expected_conditions as EC\n",
    "from selenium.common.exceptions import TimeoutException\n",
    "import requests"
   ]
  },
  {
   "cell_type": "markdown",
   "metadata": {},
   "source": [
    "1. Write a python program which searches all the product under a particular product from www.amazon.in. The\n",
    "product to be searched will be taken as input from user. For e.g. If user input is ‘guitar’. Then search for\n",
    "guitars. "
   ]
  },
  {
   "cell_type": "code",
   "execution_count": 2,
   "metadata": {},
   "outputs": [],
   "source": [
    "driver=webdriver.Chrome()"
   ]
  },
  {
   "cell_type": "code",
   "execution_count": 3,
   "metadata": {},
   "outputs": [],
   "source": [
    "driver.get(\"http://www.amazon.in/\")"
   ]
  },
  {
   "cell_type": "code",
   "execution_count": null,
   "metadata": {},
   "outputs": [],
   "source": [
    "product=input()"
   ]
  },
  {
   "cell_type": "code",
   "execution_count": null,
   "metadata": {},
   "outputs": [],
   "source": [
    "designation=driver.find_element(By.XPATH,\"/html/body/div[1]/header/div/div[1]/div[2]/div/form/div[2]/div[1]/input\")\n",
    "designation.send_keys(product)"
   ]
  },
  {
   "cell_type": "code",
   "execution_count": null,
   "metadata": {},
   "outputs": [],
   "source": [
    "driver.quit()"
   ]
  },
  {
   "cell_type": "markdown",
   "metadata": {},
   "source": [
    "2. In the above question, now scrape the following details of each product listed in first 3 pages of your search\n",
    "results and save it in a data frame and csv. In case if any product has less than 3 pages in search results then\n",
    "scrape all the products available under that product name. Details to be scraped are: \"Brand\n",
    "Name\", \"Name of the Product\", \"Price\", \"Return/Exchange\", \"Expected Delivery\", \"Availability\" and\n",
    "“Product URL”. In case, if any of the details are missing for any of the product then replace it by “-“. "
   ]
  },
  {
   "cell_type": "code",
   "execution_count": 100,
   "metadata": {},
   "outputs": [],
   "source": [
    "driver=webdriver.Chrome()"
   ]
  },
  {
   "cell_type": "code",
   "execution_count": 101,
   "metadata": {},
   "outputs": [],
   "source": [
    "driver.get(\"http://www.amazon.in/\")"
   ]
  },
  {
   "cell_type": "code",
   "execution_count": 102,
   "metadata": {},
   "outputs": [],
   "source": [
    "designation=driver.find_element(By.XPATH,\"/html/body/div[1]/header/div/div[1]/div[2]/div/form/div[2]/div[1]/input\")\n",
    "designation.send_keys(\"guitars\")"
   ]
  },
  {
   "cell_type": "code",
   "execution_count": 103,
   "metadata": {},
   "outputs": [],
   "source": [
    "search=driver.find_element(By.XPATH,\"/html/body/div[1]/header/div/div[1]/div[2]/div/form/div[3]/div/span/input\")\n",
    "search.click()"
   ]
  },
  {
   "cell_type": "code",
   "execution_count": 104,
   "metadata": {},
   "outputs": [
    {
     "ename": "NoSuchElementException",
     "evalue": "Message: no such element: Unable to locate element: {\"method\":\"xpath\",\"selector\":\"/html/body/div[1]/div[1]/div[1]/div[1]/div/span[1]/div[1]/div[67]/div/div/span/a[3]\"}\n  (Session info: chrome=123.0.6312.86); For documentation on this error, please visit: https://www.selenium.dev/documentation/webdriver/troubleshooting/errors#no-such-element-exception\nStacktrace:\n\tGetHandleVerifier [0x00007FF7DE0570C2+63090]\n\t(No symbol) [0x00007FF7DDFC2D12]\n\t(No symbol) [0x00007FF7DDE5EC65]\n\t(No symbol) [0x00007FF7DDEA499D]\n\t(No symbol) [0x00007FF7DDEA4ADC]\n\t(No symbol) [0x00007FF7DDEE5B37]\n\t(No symbol) [0x00007FF7DDEC701F]\n\t(No symbol) [0x00007FF7DDEE3412]\n\t(No symbol) [0x00007FF7DDEC6D83]\n\t(No symbol) [0x00007FF7DDE983A8]\n\t(No symbol) [0x00007FF7DDE99441]\n\tGetHandleVerifier [0x00007FF7DE45262D+4238301]\n\tGetHandleVerifier [0x00007FF7DE48F78D+4488509]\n\tGetHandleVerifier [0x00007FF7DE487A6F+4456479]\n\tGetHandleVerifier [0x00007FF7DE130606+953270]\n\t(No symbol) [0x00007FF7DDFCE5DF]\n\t(No symbol) [0x00007FF7DDFC92B4]\n\t(No symbol) [0x00007FF7DDFC93EB]\n\t(No symbol) [0x00007FF7DDFB9C24]\n\tBaseThreadInitThunk [0x00007FFED52E257D+29]\n\tRtlUserThreadStart [0x00007FFED5E8AA58+40]\n",
     "output_type": "error",
     "traceback": [
      "\u001b[1;31m---------------------------------------------------------------------------\u001b[0m",
      "\u001b[1;31mNoSuchElementException\u001b[0m                    Traceback (most recent call last)",
      "\u001b[1;32m<ipython-input-104-55f897ad7cd7>\u001b[0m in \u001b[0;36m<module>\u001b[1;34m\u001b[0m\n\u001b[0;32m      6\u001b[0m     \u001b[1;32mfor\u001b[0m \u001b[0mi\u001b[0m \u001b[1;32min\u001b[0m \u001b[0murl\u001b[0m\u001b[1;33m:\u001b[0m\u001b[1;33m\u001b[0m\u001b[1;33m\u001b[0m\u001b[0m\n\u001b[0;32m      7\u001b[0m         \u001b[0mproducts\u001b[0m\u001b[1;33m.\u001b[0m\u001b[0mappend\u001b[0m\u001b[1;33m(\u001b[0m\u001b[0mi\u001b[0m\u001b[1;33m.\u001b[0m\u001b[0mget_attribute\u001b[0m\u001b[1;33m(\u001b[0m\u001b[1;34m\"href\"\u001b[0m\u001b[1;33m)\u001b[0m\u001b[1;33m)\u001b[0m\u001b[1;33m\u001b[0m\u001b[1;33m\u001b[0m\u001b[0m\n\u001b[1;32m----> 8\u001b[1;33m     \u001b[0mnext\u001b[0m\u001b[1;33m=\u001b[0m\u001b[0mdriver\u001b[0m\u001b[1;33m.\u001b[0m\u001b[0mfind_element\u001b[0m\u001b[1;33m(\u001b[0m\u001b[0mBy\u001b[0m\u001b[1;33m.\u001b[0m\u001b[0mXPATH\u001b[0m\u001b[1;33m,\u001b[0m\u001b[1;34m'/html/body/div[1]/div[1]/div[1]/div[1]/div/span[1]/div[1]/div[67]/div/div/span/a[3]'\u001b[0m\u001b[1;33m)\u001b[0m\u001b[1;33m\u001b[0m\u001b[1;33m\u001b[0m\u001b[0m\n\u001b[0m\u001b[0;32m      9\u001b[0m     \u001b[0mnext\u001b[0m\u001b[1;33m.\u001b[0m\u001b[0mclick\u001b[0m\u001b[1;33m(\u001b[0m\u001b[1;33m)\u001b[0m\u001b[1;33m\u001b[0m\u001b[1;33m\u001b[0m\u001b[0m\n\u001b[0;32m     10\u001b[0m     \u001b[0mtime\u001b[0m\u001b[1;33m.\u001b[0m\u001b[0msleep\u001b[0m\u001b[1;33m(\u001b[0m\u001b[1;36m2\u001b[0m\u001b[1;33m)\u001b[0m\u001b[1;33m\u001b[0m\u001b[1;33m\u001b[0m\u001b[0m\n",
      "\u001b[1;32mF:\\anaconda\\lib\\site-packages\\selenium\\webdriver\\remote\\webdriver.py\u001b[0m in \u001b[0;36mfind_element\u001b[1;34m(self, by, value)\u001b[0m\n\u001b[0;32m    739\u001b[0m             \u001b[0mvalue\u001b[0m \u001b[1;33m=\u001b[0m \u001b[1;34mf'[name=\"{value}\"]'\u001b[0m\u001b[1;33m\u001b[0m\u001b[1;33m\u001b[0m\u001b[0m\n\u001b[0;32m    740\u001b[0m \u001b[1;33m\u001b[0m\u001b[0m\n\u001b[1;32m--> 741\u001b[1;33m         \u001b[1;32mreturn\u001b[0m \u001b[0mself\u001b[0m\u001b[1;33m.\u001b[0m\u001b[0mexecute\u001b[0m\u001b[1;33m(\u001b[0m\u001b[0mCommand\u001b[0m\u001b[1;33m.\u001b[0m\u001b[0mFIND_ELEMENT\u001b[0m\u001b[1;33m,\u001b[0m \u001b[1;33m{\u001b[0m\u001b[1;34m\"using\"\u001b[0m\u001b[1;33m:\u001b[0m \u001b[0mby\u001b[0m\u001b[1;33m,\u001b[0m \u001b[1;34m\"value\"\u001b[0m\u001b[1;33m:\u001b[0m \u001b[0mvalue\u001b[0m\u001b[1;33m}\u001b[0m\u001b[1;33m)\u001b[0m\u001b[1;33m[\u001b[0m\u001b[1;34m\"value\"\u001b[0m\u001b[1;33m]\u001b[0m\u001b[1;33m\u001b[0m\u001b[1;33m\u001b[0m\u001b[0m\n\u001b[0m\u001b[0;32m    742\u001b[0m \u001b[1;33m\u001b[0m\u001b[0m\n\u001b[0;32m    743\u001b[0m     \u001b[1;32mdef\u001b[0m \u001b[0mfind_elements\u001b[0m\u001b[1;33m(\u001b[0m\u001b[0mself\u001b[0m\u001b[1;33m,\u001b[0m \u001b[0mby\u001b[0m\u001b[1;33m=\u001b[0m\u001b[0mBy\u001b[0m\u001b[1;33m.\u001b[0m\u001b[0mID\u001b[0m\u001b[1;33m,\u001b[0m \u001b[0mvalue\u001b[0m\u001b[1;33m:\u001b[0m \u001b[0mOptional\u001b[0m\u001b[1;33m[\u001b[0m\u001b[0mstr\u001b[0m\u001b[1;33m]\u001b[0m \u001b[1;33m=\u001b[0m \u001b[1;32mNone\u001b[0m\u001b[1;33m)\u001b[0m \u001b[1;33m->\u001b[0m \u001b[0mList\u001b[0m\u001b[1;33m[\u001b[0m\u001b[0mWebElement\u001b[0m\u001b[1;33m]\u001b[0m\u001b[1;33m:\u001b[0m\u001b[1;33m\u001b[0m\u001b[1;33m\u001b[0m\u001b[0m\n",
      "\u001b[1;32mF:\\anaconda\\lib\\site-packages\\selenium\\webdriver\\remote\\webdriver.py\u001b[0m in \u001b[0;36mexecute\u001b[1;34m(self, driver_command, params)\u001b[0m\n\u001b[0;32m    345\u001b[0m         \u001b[0mresponse\u001b[0m \u001b[1;33m=\u001b[0m \u001b[0mself\u001b[0m\u001b[1;33m.\u001b[0m\u001b[0mcommand_executor\u001b[0m\u001b[1;33m.\u001b[0m\u001b[0mexecute\u001b[0m\u001b[1;33m(\u001b[0m\u001b[0mdriver_command\u001b[0m\u001b[1;33m,\u001b[0m \u001b[0mparams\u001b[0m\u001b[1;33m)\u001b[0m\u001b[1;33m\u001b[0m\u001b[1;33m\u001b[0m\u001b[0m\n\u001b[0;32m    346\u001b[0m         \u001b[1;32mif\u001b[0m \u001b[0mresponse\u001b[0m\u001b[1;33m:\u001b[0m\u001b[1;33m\u001b[0m\u001b[1;33m\u001b[0m\u001b[0m\n\u001b[1;32m--> 347\u001b[1;33m             \u001b[0mself\u001b[0m\u001b[1;33m.\u001b[0m\u001b[0merror_handler\u001b[0m\u001b[1;33m.\u001b[0m\u001b[0mcheck_response\u001b[0m\u001b[1;33m(\u001b[0m\u001b[0mresponse\u001b[0m\u001b[1;33m)\u001b[0m\u001b[1;33m\u001b[0m\u001b[1;33m\u001b[0m\u001b[0m\n\u001b[0m\u001b[0;32m    348\u001b[0m             \u001b[0mresponse\u001b[0m\u001b[1;33m[\u001b[0m\u001b[1;34m\"value\"\u001b[0m\u001b[1;33m]\u001b[0m \u001b[1;33m=\u001b[0m \u001b[0mself\u001b[0m\u001b[1;33m.\u001b[0m\u001b[0m_unwrap_value\u001b[0m\u001b[1;33m(\u001b[0m\u001b[0mresponse\u001b[0m\u001b[1;33m.\u001b[0m\u001b[0mget\u001b[0m\u001b[1;33m(\u001b[0m\u001b[1;34m\"value\"\u001b[0m\u001b[1;33m,\u001b[0m \u001b[1;32mNone\u001b[0m\u001b[1;33m)\u001b[0m\u001b[1;33m)\u001b[0m\u001b[1;33m\u001b[0m\u001b[1;33m\u001b[0m\u001b[0m\n\u001b[0;32m    349\u001b[0m             \u001b[1;32mreturn\u001b[0m \u001b[0mresponse\u001b[0m\u001b[1;33m\u001b[0m\u001b[1;33m\u001b[0m\u001b[0m\n",
      "\u001b[1;32mF:\\anaconda\\lib\\site-packages\\selenium\\webdriver\\remote\\errorhandler.py\u001b[0m in \u001b[0;36mcheck_response\u001b[1;34m(self, response)\u001b[0m\n\u001b[0;32m    227\u001b[0m                 \u001b[0malert_text\u001b[0m \u001b[1;33m=\u001b[0m \u001b[0mvalue\u001b[0m\u001b[1;33m[\u001b[0m\u001b[1;34m\"alert\"\u001b[0m\u001b[1;33m]\u001b[0m\u001b[1;33m.\u001b[0m\u001b[0mget\u001b[0m\u001b[1;33m(\u001b[0m\u001b[1;34m\"text\"\u001b[0m\u001b[1;33m)\u001b[0m\u001b[1;33m\u001b[0m\u001b[1;33m\u001b[0m\u001b[0m\n\u001b[0;32m    228\u001b[0m             \u001b[1;32mraise\u001b[0m \u001b[0mexception_class\u001b[0m\u001b[1;33m(\u001b[0m\u001b[0mmessage\u001b[0m\u001b[1;33m,\u001b[0m \u001b[0mscreen\u001b[0m\u001b[1;33m,\u001b[0m \u001b[0mstacktrace\u001b[0m\u001b[1;33m,\u001b[0m \u001b[0malert_text\u001b[0m\u001b[1;33m)\u001b[0m  \u001b[1;31m# type: ignore[call-arg]  # mypy is not smart enough here\u001b[0m\u001b[1;33m\u001b[0m\u001b[1;33m\u001b[0m\u001b[0m\n\u001b[1;32m--> 229\u001b[1;33m         \u001b[1;32mraise\u001b[0m \u001b[0mexception_class\u001b[0m\u001b[1;33m(\u001b[0m\u001b[0mmessage\u001b[0m\u001b[1;33m,\u001b[0m \u001b[0mscreen\u001b[0m\u001b[1;33m,\u001b[0m \u001b[0mstacktrace\u001b[0m\u001b[1;33m)\u001b[0m\u001b[1;33m\u001b[0m\u001b[1;33m\u001b[0m\u001b[0m\n\u001b[0m",
      "\u001b[1;31mNoSuchElementException\u001b[0m: Message: no such element: Unable to locate element: {\"method\":\"xpath\",\"selector\":\"/html/body/div[1]/div[1]/div[1]/div[1]/div/span[1]/div[1]/div[67]/div/div/span/a[3]\"}\n  (Session info: chrome=123.0.6312.86); For documentation on this error, please visit: https://www.selenium.dev/documentation/webdriver/troubleshooting/errors#no-such-element-exception\nStacktrace:\n\tGetHandleVerifier [0x00007FF7DE0570C2+63090]\n\t(No symbol) [0x00007FF7DDFC2D12]\n\t(No symbol) [0x00007FF7DDE5EC65]\n\t(No symbol) [0x00007FF7DDEA499D]\n\t(No symbol) [0x00007FF7DDEA4ADC]\n\t(No symbol) [0x00007FF7DDEE5B37]\n\t(No symbol) [0x00007FF7DDEC701F]\n\t(No symbol) [0x00007FF7DDEE3412]\n\t(No symbol) [0x00007FF7DDEC6D83]\n\t(No symbol) [0x00007FF7DDE983A8]\n\t(No symbol) [0x00007FF7DDE99441]\n\tGetHandleVerifier [0x00007FF7DE45262D+4238301]\n\tGetHandleVerifier [0x00007FF7DE48F78D+4488509]\n\tGetHandleVerifier [0x00007FF7DE487A6F+4456479]\n\tGetHandleVerifier [0x00007FF7DE130606+953270]\n\t(No symbol) [0x00007FF7DDFCE5DF]\n\t(No symbol) [0x00007FF7DDFC92B4]\n\t(No symbol) [0x00007FF7DDFC93EB]\n\t(No symbol) [0x00007FF7DDFB9C24]\n\tBaseThreadInitThunk [0x00007FFED52E257D+29]\n\tRtlUserThreadStart [0x00007FFED5E8AA58+40]\n"
     ]
    }
   ],
   "source": [
    "products=[]\n",
    "start=0\n",
    "end=3\n",
    "for page in range(start,end):\n",
    "    url=driver.find_elements(By.XPATH,'//a[@class=\"a-link-normal s-no-outline\"]')\n",
    "    for i in url:\n",
    "        products.append(i.get_attribute(\"href\"))\n",
    "    next=driver.find_element(By.XPATH,'/html/body/div[1]/div[1]/div[1]/div[1]/div/span[1]/div[1]/div[67]/div/div/span/a[3]')\n",
    "    next.click()\n",
    "    time.sleep(2)"
   ]
  },
  {
   "cell_type": "code",
   "execution_count": 41,
   "metadata": {},
   "outputs": [],
   "source": [
    "brands=[]\n",
    "prices=[]\n",
    "names=[]\n",
    "returns=[]\n",
    "expectedDeliveries=[]\n",
    "Availabilities=[]\n",
    "for url in products:\n",
    "    driver.get(url)\n",
    "    time.sleep(2)\n",
    "    \n",
    "    try:\n",
    "        b=driver.find_element(By.XPATH,'//span[@class=\"a-size-base po-break-word\"]')\n",
    "        brands.append(b.text)\n",
    "    except NoSuchElementException:\n",
    "        brands.append('-')\n",
    "        \n",
    "    try:\n",
    "        n=driver.find_element(By.XPATH,'//span[@class=\"a-size-large product-title-word-break\"]')\n",
    "        names.append(n.text)\n",
    "    except NoSuchElementException:\n",
    "        names.append('-')\n",
    "        \n",
    "    try:\n",
    "        p=driver.find_element(By.XPATH,'//span[@class=\"a-price-whole\"]')\n",
    "        prices.append(p.text)\n",
    "    except NoSuchElementException:\n",
    "        prices.append('-')\n",
    "        \n",
    "    try:\n",
    "        r=driver.find_element(By.XPATH,'//span[@class=\"a-size-small a-color-link a-text-normal\"]')\n",
    "        returns.append(r.text)\n",
    "    except NoSuchElementException:\n",
    "        returns.append('-')\n",
    "        \n",
    "    try:\n",
    "        ed=driver.find_element(By.XPATH,'//span[@class=\"a-text-bold\"]')\n",
    "        expectedDeliveries.append(ed.text)\n",
    "    except NoSuchElementException:\n",
    "        expectedDeliveries.append('-')\n",
    "        \n",
    "    try:\n",
    "        a=driver.find_element(By.XPATH,'//span[@class=\"a-size-medium a-color-success\"]')\n",
    "        Availabilities.append(a.text) \n",
    "    except NoSuchElementException:\n",
    "        Availabilities.append('-')"
   ]
  },
  {
   "cell_type": "code",
   "execution_count": 48,
   "metadata": {},
   "outputs": [
    {
     "name": "stdout",
     "output_type": "stream",
     "text": [
      "                                   Name of the product Brand name   Price  \\\n",
      "0    Kadence A281BK Professional Acoustic Rosewood ...    Kadence   6,499   \n",
      "1    Kadence A281 Professional Acoustic Rosewood gu...    Kadence   6,499   \n",
      "2    Kadence Frontier guitar with Online Guitar lea...    Kadence   4,499   \n",
      "3    Kadence rosewood Guitar Frontier Series, Elect...    Kadence   5,499   \n",
      "4    Juârez Acoustic Guitar Kit, 38 Inch Cutaway, 0...     JUAREZ   1,949   \n",
      "..                                                 ...        ...     ...   \n",
      "184       Epiphone SG Special VE Electric Guitar Ebony   Epiphone  20,389   \n",
      "185  Acoustic Guitar, 39 Inch Cutaway, 039C with Ba...    Gum-Tea   3,099   \n",
      "186  BLUEBERRY B-40, Acoustic Guitar Kit Inbuilt Tr...  blueberry   4,741   \n",
      "187  Ketsicart White Pearl Guitar Binding Purfling ...          -     766   \n",
      "188  SG Musical - Guitar Floor Stand Foldable and A...      Black     549   \n",
      "\n",
      "    Expected Delivery date            Availability  \n",
      "0          Monday, 1 April                In stock  \n",
      "1         Sunday, 31 March                In stock  \n",
      "2          Monday, 1 April                In stock  \n",
      "3       Saturday, 30 March                In stock  \n",
      "4         Sunday, 31 March                In stock  \n",
      "..                     ...                     ...  \n",
      "184        Monday, 1 April                       -  \n",
      "185                         Currently unavailable.  \n",
      "186       Tuesday, 2 April                In stock  \n",
      "187       Sunday, 31 March                       -  \n",
      "188      Saturday, 6 April                In stock  \n",
      "\n",
      "[189 rows x 5 columns]\n"
     ]
    }
   ],
   "source": [
    "df=pd.DataFrame({'Name of the product':names,'Brand name':brands,'Price':prices,'Expected Delivery date':expectedDeliveries,'Availability':Availabilities})\n",
    "print(df)"
   ]
  },
  {
   "cell_type": "code",
   "execution_count": 49,
   "metadata": {},
   "outputs": [],
   "source": [
    "driver.quit()"
   ]
  },
  {
   "cell_type": "markdown",
   "metadata": {},
   "source": [
    "3. Write a python program to access the search bar and search button on images.google.com and scrape 10\n",
    "images each for keywords ‘fruits’, ‘cars’ and ‘Machine Learning’, ‘Guitar’, ‘Cakes’. "
   ]
  },
  {
   "cell_type": "code",
   "execution_count": 84,
   "metadata": {},
   "outputs": [],
   "source": [
    "driver=webdriver.Chrome()"
   ]
  },
  {
   "cell_type": "code",
   "execution_count": 85,
   "metadata": {},
   "outputs": [],
   "source": [
    "driver.get(\"https://images.google.com/\")"
   ]
  },
  {
   "cell_type": "code",
   "execution_count": 86,
   "metadata": {},
   "outputs": [],
   "source": [
    "destination=driver.find_element(By.CLASS_NAME,\"gLFyf\")\n",
    "destination.send_keys(\"Fruits\")"
   ]
  },
  {
   "cell_type": "code",
   "execution_count": 88,
   "metadata": {},
   "outputs": [],
   "source": [
    "search=driver.find_element(By.XPATH,'/html/body/div[1]/div[3]/form/div[1]/div[1]/div[1]/button/div')\n",
    "search.click()"
   ]
  },
  {
   "cell_type": "code",
   "execution_count": 89,
   "metadata": {},
   "outputs": [],
   "source": [
    "for _ in range(20):\n",
    "    driver.execute_script(\"window.scrollBy(0,500)\")\n",
    "img_urls=[]\n",
    "imgs=driver.find_elements(By.XPATH,'//img[@class=\"YQ4gaf\"]')\n",
    "for i in imgs:\n",
    "    source=i.get_attribute('src')\n",
    "    if source is not None:\n",
    "        img_urls.append(source)\n"
   ]
  },
  {
   "cell_type": "code",
   "execution_count": 90,
   "metadata": {},
   "outputs": [],
   "source": [
    "driver.quit()"
   ]
  },
  {
   "cell_type": "markdown",
   "metadata": {},
   "source": [
    "4. Write a python program to search for a smartphone(e.g.: Oneplus Nord, pixel 4A, etc.) on www.flipkart.com\n",
    "and scrape following details for all the search results displayed on 1st page. Details to be scraped: “Brand\n",
    "Name”, “Smartphone name”, “Colour”, “RAM”, “Storage(ROM)”, “Primary Camera”,\n",
    "“Secondary Camera”, “Display Size”, “Battery Capacity”, “Price”, “Product URL”. Incase if any of the\n",
    "details is missing then replace it by “- “. Save your results in a dataframe and CSV. \n"
   ]
  },
  {
   "cell_type": "code",
   "execution_count": 91,
   "metadata": {},
   "outputs": [],
   "source": [
    "driver=webdriver.Chrome()"
   ]
  },
  {
   "cell_type": "code",
   "execution_count": 92,
   "metadata": {},
   "outputs": [],
   "source": [
    "driver.get(\"http://www.flipkart.com/\")"
   ]
  },
  {
   "cell_type": "code",
   "execution_count": 93,
   "metadata": {},
   "outputs": [],
   "source": [
    "designation=driver.find_element(By.XPATH,\"/html/body/div[1]/div/div[1]/div/div/div/div/div[1]/div/div[1]/div/div[1]/div[1]/header/div[1]/div[2]/form/div/div/input\")\n",
    "designation.send_keys(\"smartphone\")"
   ]
  },
  {
   "cell_type": "code",
   "execution_count": 94,
   "metadata": {},
   "outputs": [],
   "source": [
    "search=driver.find_element(By.XPATH,\"/html/body/div[1]/div/div[1]/div/div/div/div/div[1]/div/div[1]/div/div[1]/div[1]/header/div[1]/div[2]/form/div/button\")\n",
    "search.click()"
   ]
  },
  {
   "cell_type": "code",
   "execution_count": 95,
   "metadata": {},
   "outputs": [],
   "source": [
    "products=[]\n",
    "url=driver.find_elements(By.XPATH,'//a[@class=\"_1fQZEK\"]')\n",
    "for i in url:\n",
    "    products.append(i.get_attribute(\"href\"))"
   ]
  },
  {
   "cell_type": "code",
   "execution_count": 97,
   "metadata": {},
   "outputs": [],
   "source": [
    "names=[]\n",
    "colours=[]\n",
    "rams=[]\n",
    "roms=[]\n",
    "pcams=[]\n",
    "scams=[]\n",
    "displaysize=[]\n",
    "batterycapacity=[]\n",
    "prices=[]\n",
    "\n",
    "for i in products:\n",
    "    driver.get(i)\n",
    "    time.sleep(2)\n",
    "    try:\n",
    "        n=driver.find_element(By.XPATH,'//span[@class=\"B_NuCI\"]')\n",
    "        names.append(n.text)\n",
    "    except NoSuchElementException:\n",
    "        names.append('-')\n",
    "        \n",
    "    try:\n",
    "        c=driver.find_element(By.XPATH,'/html/body/div[1]/div/div[3]/div[1]/div[2]/div[8]/div[6]/div/div[2]/div[1]/div[1]/table/tbody/tr[4]/td[2]/ul/li')\n",
    "        colours.append(c.text)\n",
    "    except NoSuchElementException:\n",
    "        colours.append('-')\n",
    "    \n",
    "    try:\n",
    "        r=driver.find_element(By.XPATH,'/html/body/div[1]/div/div[3]/div[1]/div[2]/div[8]/div[6]/div/div[2]/div[1]/div[4]/table/tbody/tr[2]/td[2]/ul/li')\n",
    "        rams.append(r.text)\n",
    "    except NoSuchElementException:\n",
    "        rams.append('-')\n",
    "    \n",
    "    try:\n",
    "        ro=driver.find_element(By.XPATH,'/html/body/div[1]/div/div[3]/div[1]/div[2]/div[8]/div[6]/div/div[2]/div[1]/div[4]/table/tbody/tr[1]/td[2]/ul/li')\n",
    "        roms.append(ro.text)\n",
    "    except NoSuchElementException:\n",
    "        roms.append('-')\n",
    "    \n",
    "    try:\n",
    "        p=driver.find_element(By.XPATH,'/html/body/div[1]/div/div[3]/div[1]/div[2]/div[8]/div[6]/div/div[2]/div[1]/div[5]/table/tbody/tr[2]/td[2]/ul/li')\n",
    "        pcams.append(p.text)\n",
    "    except NoSuchElementException:\n",
    "        pcams.append('-')\n",
    "    \n",
    "    try:\n",
    "        s=driver.find_element(By.XPATH,'/html/body/div[1]/div/div[3]/div[1]/div[2]/div[8]/div[6]/div/div[2]/div[1]/div[5]/table/tbody/tr[5]/td[2]/ul/li')\n",
    "        scams.append(s.text)\n",
    "    except NoSuchElementException:\n",
    "        scams.append('-')\n",
    "        \n",
    "    \n",
    "    try:\n",
    "        b=driver.find_element(By.XPATH,'/html/body/div[1]/div/div[3]/div[1]/div[2]/div[8]/div[6]/div/div[2]/div[1]/div[10]/table/tbody/tr[1]/td[2]/ul/li')\n",
    "        batterycapacity.append(b.text)\n",
    "    except NoSuchElementException:\n",
    "        batterycapacity.append('-')\n",
    "    \n",
    "    try:\n",
    "        pr=driver.find_element(By.XPATH,'/html/body/div[1]/div/div[3]/div[1]/div[2]/div[2]/div/div[4]/div[1]/div/div[1]')\n",
    "        prices.append(pr.text)\n",
    "    except NoSuchElementException:\n",
    "        prices.append('-')\n",
    "        \n",
    "    "
   ]
  },
  {
   "cell_type": "code",
   "execution_count": 98,
   "metadata": {},
   "outputs": [
    {
     "name": "stdout",
     "output_type": "stream",
     "text": [
      "['Motorola G34 5G (Ocean Green, 128 GB)  (8 GB RAM)', 'realme C53 (Champion Black, 64 GB)  (6 GB RAM)', 'realme C53 (Champion Black, 128 GB)  (6 GB RAM)', 'Motorola G34 5G (Charcoal Black, 128 GB)  (8 GB RAM)', 'realme C53 (Champion Gold, 128 GB)  (4 GB RAM)', 'Motorola G34 5G (Ice Blue, 128 GB)  (8 GB RAM)', 'POCO C51 - Locked with Airtel Prepaid (Royal Blue, 64 GB)  (4 GB RAM)', 'POCO C51 - Locked with Airtel Prepaid (Power Black, 64 GB)  (4 GB RAM)', 'REDMI 12 (Pastel Blue, 128 GB)  (4 GB RAM)', 'Motorola g84 5G (Midnight Blue, 256 GB)  (12 GB RAM)', 'POCO C55 (Power Black, 64 GB)  (4 GB RAM)', 'Apple iPhone 14 (Blue, 128 GB)', 'OnePlus Nord CE 3 Lite 5G (Pastel Lime, 256 GB)  (8 GB RAM)', 'MOTOROLA g24 Power (Ink blue, 128 GB)  (4 GB RAM)', 'MOTOROLA g24 Power (Ink blue, 128 GB)  (8 GB RAM)', 'OnePlus Nord CE 3 Lite 5G (Pastel Lime, 128 GB)  (8 GB RAM)', 'OnePlus Nord CE 3 Lite 5G (Chromatic Gray, 128 GB)  (8 GB RAM)', 'REDMI A2 (Sea Green, 64 GB)  (2 GB RAM)', 'POCO M6 Pro 5G (Forest Green, 128 GB)  (6 GB RAM)', 'POCO M6 Pro 5G (Power Black, 128 GB)  (6 GB RAM)', 'vivo T2x 5G (Glimmer Black, 128 GB)  (6 GB RAM)', 'vivo T2x 5G (Aurora Gold, 128 GB)  (6 GB RAM)', 'vivo T2x 5G (Marine Blue, 128 GB)  (6 GB RAM)', 'vivo T2x 5G (Glimmer Black, 128 GB)  (4 GB RAM)']\n"
     ]
    }
   ],
   "source": [
    "print(names)"
   ]
  },
  {
   "cell_type": "code",
   "execution_count": 99,
   "metadata": {},
   "outputs": [],
   "source": [
    "driver.quit()"
   ]
  },
  {
   "cell_type": "markdown",
   "metadata": {},
   "source": [
    "5. Write a program to scrap geospatial coordinates (latitude, longitude) of a city searched on google maps. "
   ]
  },
  {
   "cell_type": "code",
   "execution_count": 29,
   "metadata": {},
   "outputs": [],
   "source": [
    "driver=webdriver.Chrome()"
   ]
  },
  {
   "cell_type": "code",
   "execution_count": 30,
   "metadata": {},
   "outputs": [],
   "source": [
    "driver.get(\"https://www.google.com/maps\")"
   ]
  },
  {
   "cell_type": "code",
   "execution_count": 31,
   "metadata": {},
   "outputs": [],
   "source": [
    "destination=driver.find_element(By.XPATH,'/html/body/div[1]/div[3]/div[8]/div[3]/div[1]/div[1]/div/div[2]/form/input')\n",
    "destination.send_keys('New Delhi')"
   ]
  },
  {
   "cell_type": "code",
   "execution_count": 33,
   "metadata": {},
   "outputs": [],
   "source": [
    "search=driver.find_element(By.XPATH,'/html/body/div[1]/div[3]/div[8]/div[3]/div[1]/div[1]/div/div[2]/div[1]/button')\n",
    "search.click()"
   ]
  },
  {
   "cell_type": "code",
   "execution_count": 34,
   "metadata": {},
   "outputs": [],
   "source": [
    "current_url=driver.current_url\n",
    "latitude_longitude=current_url.split(\"@\")[1].split(\",\")[0:2]\n",
    "latitude=latitude_longitude[0]\n",
    "longitude=latitude_longitude[1]"
   ]
  },
  {
   "cell_type": "code",
   "execution_count": 36,
   "metadata": {},
   "outputs": [
    {
     "name": "stdout",
     "output_type": "stream",
     "text": [
      "28.5272527\n"
     ]
    }
   ],
   "source": [
    "print(latitude)"
   ]
  },
  {
   "cell_type": "code",
   "execution_count": 37,
   "metadata": {},
   "outputs": [
    {
     "name": "stdout",
     "output_type": "stream",
     "text": [
      "77.0441727\n"
     ]
    }
   ],
   "source": [
    "print(longitude)"
   ]
  },
  {
   "cell_type": "code",
   "execution_count": 38,
   "metadata": {},
   "outputs": [],
   "source": [
    "driver.quit()"
   ]
  },
  {
   "cell_type": "markdown",
   "metadata": {},
   "source": [
    "6. Write a program to scrap all the available details of best gaming laptops from digit.in. "
   ]
  },
  {
   "cell_type": "code",
   "execution_count": 20,
   "metadata": {},
   "outputs": [],
   "source": [
    "driver=webdriver.Chrome()"
   ]
  },
  {
   "cell_type": "code",
   "execution_count": 21,
   "metadata": {},
   "outputs": [],
   "source": [
    "driver.get(\"https://www.digit.in/top-products/best-business-laptops-india-42.html\")"
   ]
  },
  {
   "cell_type": "code",
   "execution_count": 22,
   "metadata": {},
   "outputs": [],
   "source": [
    "laptops=[]\n",
    "url=driver.find_elements(By.XPATH,'//h3[@class=\"font130 mt0 mb10 mobilesblockdisplay \"]/a')\n",
    "for i in url:\n",
    "    laptops.append(i.get_attribute(\"href\"))"
   ]
  },
  {
   "cell_type": "code",
   "execution_count": 24,
   "metadata": {},
   "outputs": [
    {
     "name": "stdout",
     "output_type": "stream",
     "text": [
      "                                                Name  \\\n",
      "0  ASUS Vivobook K15 OLED Ryzen 5-5500U (KM513UA-...   \n",
      "1  realme Book Prime 11th Gen Core i5-11320H (Clo...   \n",
      "2  ASUS Vivobook S14 OLED S3402ZA-KM501WS 12th Ge...   \n",
      "3  ASUS Vivobook Pro 16 OLED 13th Gen Core i5-135...   \n",
      "4  Lenovo Yoga Slim 7i Carbon 12th Gen Core i7-12...   \n",
      "5                 Apple MacBook Pro MNEQ3HN/A (2022)   \n",
      "6  Samsung Galaxy Book3 Pro NP940XFG-KC5IN 13th G...   \n",
      "7                      Apple MacBook Pro (MK1F3HN/A)   \n",
      "\n",
      "                                                 Url  \n",
      "0  https://www.digit.in/laptops/asus-vivobook-k15...  \n",
      "1  https://www.digit.in/laptops/realme-book-prime...  \n",
      "2  https://www.digit.in/laptops/asus-vivobook-s14...  \n",
      "3  https://www.digit.in/laptops/asus-vivobook-pro...  \n",
      "4  https://www.digit.in/laptops/lenovo-yoga-slim-...  \n",
      "5  https://www.digit.in/laptops/apple-macbook-pro...  \n",
      "6  https://www.digit.in/laptops/samsung-galaxy-bo...  \n",
      "7  https://www.digit.in/laptops/apple-macbook-pro...  \n"
     ]
    }
   ],
   "source": [
    "names=[]\n",
    "name_tags=driver.find_elements(By.XPATH,'//h3[@class=\"font130 mt0 mb10 mobilesblockdisplay \"]/a')\n",
    "for i in name_tags:\n",
    "    n=i.text.strip()\n",
    "    names.append(n)\n",
    "df=pd.DataFrame({'Name':names,'Url':laptops})\n",
    "print(df)"
   ]
  },
  {
   "cell_type": "code",
   "execution_count": 25,
   "metadata": {},
   "outputs": [],
   "source": [
    "driver.quit()"
   ]
  },
  {
   "cell_type": "markdown",
   "metadata": {},
   "source": [
    "7. Write a python program to scrape the details for all billionaires from www.forbes.com. Details to be scrapped:\n",
    "“Rank”, “Name”, “Net worth”, “Age”, “Citizenship”, “Source”, “Industry”. \n"
   ]
  },
  {
   "cell_type": "code",
   "execution_count": 26,
   "metadata": {},
   "outputs": [],
   "source": [
    "driver=webdriver.Chrome()"
   ]
  },
  {
   "cell_type": "code",
   "execution_count": 27,
   "metadata": {},
   "outputs": [],
   "source": [
    "driver.get(\"https://www.forbes.com/billionaires/\")"
   ]
  },
  {
   "cell_type": "code",
   "execution_count": 35,
   "metadata": {},
   "outputs": [
    {
     "name": "stdout",
     "output_type": "stream",
     "text": [
      "    Rank                Name Networth Age    Citizenship              Source  \\\n",
      "0      2           Elon Musk   $180 B  51  United States       Tesla, SpaceX   \n",
      "1      3          Jeff Bezos   $114 B  59  United States              Amazon   \n",
      "2      4       Larry Ellison   $107 B  78  United States              Oracle   \n",
      "3      5      Warren Buffett   $106 B  92  United States  Berkshire Hathaway   \n",
      "4      6          Bill Gates   $104 B  67  United States           Microsoft   \n",
      "..   ...                 ...      ...  ..            ...                 ...   \n",
      "194  195         Jin Baofang   $9.6 B  70          China        Solar panels   \n",
      "195  195  Luo Liguo & family   $9.6 B  67          China           Chemicals   \n",
      "196  195        Marijke Mars   $9.6 B  58  United States     Candy, pet food   \n",
      "197  195         Pamela Mars   $9.6 B  62  United States     Candy, pet food   \n",
      "198  195        Valerie Mars   $9.6 B  64  United States     Candy, pet food   \n",
      "\n",
      "                  Industry  \n",
      "0               Automotive  \n",
      "1               Technology  \n",
      "2               Technology  \n",
      "3    Finance & Investments  \n",
      "4               Technology  \n",
      "..                     ...  \n",
      "194                 Energy  \n",
      "195          Manufacturing  \n",
      "196        Food & Beverage  \n",
      "197        Food & Beverage  \n",
      "198        Food & Beverage  \n",
      "\n",
      "[199 rows x 7 columns]\n"
     ]
    }
   ],
   "source": [
    "ranks=[]\n",
    "names=[]\n",
    "networths=[]\n",
    "ages=[]\n",
    "citizenships=[]\n",
    "sources=[]\n",
    "industries=[]\n",
    "row_tags=driver.find_elements(By.XPATH,'//div[@class=\"TableRow_row__L-0Km\"]')\n",
    "for i in row_tags:\n",
    "    ranks.append(i.text.split('\\n')[0])\n",
    "    names.append(i.text.split('\\n')[1])\n",
    "    networths.append(i.text.split('\\n')[2])\n",
    "    ages.append(i.text.split('\\n')[3])\n",
    "    citizenships.append(i.text.split('\\n')[4])\n",
    "    sources.append(i.text.split('\\n')[5])\n",
    "    industries.append(i.text.split('\\n')[6])\n",
    "\n",
    "df=pd.DataFrame({'Rank':ranks,'Name':names,'Networth':networths,'Age':ages,'Citizenship':citizenships,'Source':sources,'Industry':industries})\n",
    "print(df)\n",
    "\n",
    "    "
   ]
  },
  {
   "cell_type": "code",
   "execution_count": 36,
   "metadata": {},
   "outputs": [],
   "source": [
    "driver.quit()"
   ]
  },
  {
   "cell_type": "markdown",
   "metadata": {},
   "source": [
    "8. Write a program to extract at least 500 Comments, Comment upvote and time when comment was posted\n",
    "from any YouTube Video. "
   ]
  },
  {
   "cell_type": "code",
   "execution_count": 37,
   "metadata": {},
   "outputs": [],
   "source": [
    "driver=webdriver.Chrome()"
   ]
  },
  {
   "cell_type": "code",
   "execution_count": 38,
   "metadata": {},
   "outputs": [],
   "source": [
    "driver.get(\"https://www.youtube.com/watch?v=6k8cpUkKK4c\")"
   ]
  },
  {
   "cell_type": "code",
   "execution_count": 49,
   "metadata": {},
   "outputs": [],
   "source": [
    "comments=[]\n",
    "upvotes=[]\n",
    "for _ in range(200):\n",
    "    driver.execute_script(\"window.scrollBy(0,500)\")\n",
    "comment_tags=driver.find_elements(By.XPATH,'//span[@class=\"yt-core-attributed-string yt-core-attributed-string--white-space-pre-wrap\"]')\n",
    "for i in comment_tags[10:]:\n",
    "    comments.append(i.text.strip())\n",
    "upvote_tags=driver.find_elements(By.XPATH,'//span[@id=\"vote-count-middle\"]')\n",
    "for i in upvote_tags:\n",
    "    upvotes.append(i.text.strip())\n"
   ]
  },
  {
   "cell_type": "code",
   "execution_count": 54,
   "metadata": {},
   "outputs": [
    {
     "name": "stdout",
     "output_type": "stream",
     "text": [
      "                                               Comment Upvotes\n",
      "0    This is NOT his come back people, it's the ten...    5.3K\n",
      "1                     oh the nostalgia this song holds    5.7K\n",
      "2    This song makes me cry all the time because it...      70\n",
      "3    My 17 year old daughter sings this song to her...     343\n",
      "4    Human : dies once \\nDespacito : already dead\\n...    4.2K\n",
      "..                                                 ...     ...\n",
      "496  Count one me lyrics: \\nIf you ever find yourse...      82\n",
      "497             Never get enough of this awesome music      13\n",
      "498  This was my song when i was little so sad miss...        \n",
      "499                                      Too legendary        \n",
      "500  Dont worry, Bruno Mars just forgot his email p...      83\n",
      "\n",
      "[501 rows x 2 columns]\n"
     ]
    }
   ],
   "source": [
    "df=pd.DataFrame({'Comment':comments[:501],'Upvotes':upvotes[:501]})\n",
    "print(df)"
   ]
  },
  {
   "cell_type": "code",
   "execution_count": 55,
   "metadata": {},
   "outputs": [],
   "source": [
    "driver.quit()"
   ]
  },
  {
   "cell_type": "markdown",
   "metadata": {},
   "source": [
    "9. Write a python program to scrape a data for all available Hostels from https://www.hostelworld.com/ in\n",
    "“London” location. You have to scrape hostel name, distance from city centre, ratings, total reviews, overall\n",
    "reviews, privates from price, dorms from price, facilities and property description. "
   ]
  },
  {
   "cell_type": "code",
   "execution_count": 56,
   "metadata": {},
   "outputs": [],
   "source": [
    "driver=webdriver.Chrome()"
   ]
  },
  {
   "cell_type": "code",
   "execution_count": 57,
   "metadata": {},
   "outputs": [],
   "source": [
    "driver.get(\"https://www.hostelworld.com/\")"
   ]
  },
  {
   "cell_type": "code",
   "execution_count": 62,
   "metadata": {},
   "outputs": [],
   "source": [
    "destination=driver.find_element(By.XPATH,\"/html/body/div[3]/div/div/div[2]/div[2]/div[2]/div/div/div/div[1]/div[1]/div/div[2]/input\")\n",
    "destination.send_keys(\"London\")"
   ]
  },
  {
   "cell_type": "code",
   "execution_count": 63,
   "metadata": {},
   "outputs": [],
   "source": [
    "search=driver.find_element(By.XPATH,\"/html/body/div[3]/div/div/div[2]/div[2]/div[2]/div/div/div/div[5]/button[2]\")\n",
    "search.click()"
   ]
  },
  {
   "cell_type": "code",
   "execution_count": 64,
   "metadata": {},
   "outputs": [],
   "source": [
    "names=[]\n",
    "name_tags=driver.find_elements(By.XPATH,'//div[@class=\"property-name\"]/span')\n",
    "for i in name_tags:\n",
    "    names.append(i.text.strip())"
   ]
  },
  {
   "cell_type": "code",
   "execution_count": 66,
   "metadata": {},
   "outputs": [],
   "source": [
    "distances=[]\n",
    "distance_tags=driver.find_elements(By.XPATH,'//span[@class=\"distance-description\"]')\n",
    "for i in distance_tags:\n",
    "    distances.append(i.text.strip())"
   ]
  },
  {
   "cell_type": "code",
   "execution_count": 68,
   "metadata": {},
   "outputs": [],
   "source": [
    "ratings=[]\n",
    "rating_tags=driver.find_elements(By.XPATH,'//span[@class=\"number\"]')\n",
    "for i in rating_tags:\n",
    "    ratings.append(i.text.strip())"
   ]
  },
  {
   "cell_type": "code",
   "execution_count": 73,
   "metadata": {},
   "outputs": [],
   "source": [
    "total_reviews=[]\n",
    "review_tags=driver.find_elements(By.XPATH,'//span[@class=\"left-margin\"]')\n",
    "for i in review_tags:\n",
    "    total_reviews.append(i.text.strip('()'))"
   ]
  },
  {
   "cell_type": "code",
   "execution_count": 75,
   "metadata": {},
   "outputs": [],
   "source": [
    "oreviews=[]\n",
    "oreview_tags=driver.find_elements(By.XPATH,'//span[@class=\"keyword\"]')\n",
    "for i in oreview_tags:\n",
    "    oreviews.append(i.text.strip())"
   ]
  },
  {
   "cell_type": "code",
   "execution_count": 79,
   "metadata": {},
   "outputs": [],
   "source": [
    "desc=[]\n",
    "desc_tags=driver.find_elements(By.XPATH,'//span[@class=\"distance-property-type\"]')\n",
    "for i in desc_tags:\n",
    "    desc.append(i.text.strip())"
   ]
  },
  {
   "cell_type": "code",
   "execution_count": 82,
   "metadata": {},
   "outputs": [],
   "source": [
    "driver.quit()"
   ]
  },
  {
   "cell_type": "code",
   "execution_count": null,
   "metadata": {},
   "outputs": [],
   "source": []
  }
 ],
 "metadata": {
  "kernelspec": {
   "display_name": "Python 3",
   "language": "python",
   "name": "python3"
  },
  "language_info": {
   "codemirror_mode": {
    "name": "ipython",
    "version": 3
   },
   "file_extension": ".py",
   "mimetype": "text/x-python",
   "name": "python",
   "nbconvert_exporter": "python",
   "pygments_lexer": "ipython3",
   "version": "3.8.3"
  }
 },
 "nbformat": 4,
 "nbformat_minor": 4
}
