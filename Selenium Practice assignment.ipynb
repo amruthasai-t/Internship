{
 "cells": [
  {
   "cell_type": "markdown",
   "metadata": {},
   "source": [
    "# Web Scraping Assignment-2"
   ]
  },
  {
   "cell_type": "code",
   "execution_count": 54,
   "metadata": {},
   "outputs": [],
   "source": [
    "import selenium\n",
    "import pandas as pd\n",
    "from selenium import webdriver\n",
    "import warnings\n",
    "warnings.filterwarnings('ignore')\n",
    "from selenium.webdriver.common.by import By\n",
    "import time"
   ]
  },
  {
   "cell_type": "markdown",
   "metadata": {},
   "source": [
    "Q1: Write a python program to scrape data for “Data Analyst” Job position in “Bangalore” location.\n",
    "You have to scrape the job-title, job-location, company_name, experience_required. You have to\n",
    "scrape first 10 jobs data.\n",
    "This task will be done in following steps:\n",
    "1. First get the webpage https://www.shine.com/\n",
    "2. Enter “Data Analyst” in “Job title, Skills” field and enter “Bangalore” in “enter the location” field.\n",
    "3. Then click the searchbutton.\n",
    "4. Then scrape the data for the first 10 jobs results you get.\n",
    "5. Finally create a dataframe of the scraped data. "
   ]
  },
  {
   "cell_type": "code",
   "execution_count": 19,
   "metadata": {},
   "outputs": [],
   "source": [
    "driver=webdriver.Chrome()"
   ]
  },
  {
   "cell_type": "code",
   "execution_count": 20,
   "metadata": {},
   "outputs": [],
   "source": [
    "driver.get(\"https://www.shine.com/\")"
   ]
  },
  {
   "cell_type": "code",
   "execution_count": 22,
   "metadata": {},
   "outputs": [],
   "source": [
    "designation=driver.find_element(By.CLASS_NAME,\"form-control\")\n",
    "designation.send_keys('Data Analyst')"
   ]
  },
  {
   "cell_type": "code",
   "execution_count": 25,
   "metadata": {},
   "outputs": [],
   "source": [
    "location=driver.find_element(By.XPATH,\"/html/body/div/div[4]/div/div[2]/div[2]/div/form/div/div[1]/ul/li[2]/div/input\")\n",
    "location.send_keys('Bangalore')"
   ]
  },
  {
   "cell_type": "code",
   "execution_count": 27,
   "metadata": {},
   "outputs": [],
   "source": [
    "search=driver.find_element(By.XPATH,\"/html/body/div/div[4]/div/div[2]/div[2]/div/form/div/div[2]/div/button\")\n",
    "search.click()"
   ]
  },
  {
   "cell_type": "code",
   "execution_count": 28,
   "metadata": {},
   "outputs": [
    {
     "name": "stdout",
     "output_type": "stream",
     "text": [
      "                            Job Title        Location  \\\n",
      "0               Clinical Data Analyst   Bangalore\\n+6   \n",
      "1                        Data Analyst   Bangalore\\n+9   \n",
      "2             Hiring For Data Analyst  Bangalore\\n+12   \n",
      "3                   Lead Data Analyst       Bangalore   \n",
      "4                        Data Analyst   Bangalore\\n+3   \n",
      "5            Technical Data Architect       Bangalore   \n",
      "6              Data Science Architect   Bangalore\\n+4   \n",
      "7                       Data Engineer       Bangalore   \n",
      "8             Clinical Data Associate   Bangalore\\n+6   \n",
      "9  Part-Time Data Entry Operator work   Bangalore\\n+9   \n",
      "\n",
      "                               Company Experience required  \n",
      "0                        techno endura           0 to 1 Yr  \n",
      "1             sahast sales corporation        12 to 22 Yrs  \n",
      "2                  radhika enterprises          0 to 4 Yrs  \n",
      "3        ara resources private limited          4 to 9 Yrs  \n",
      "4    diraa hr services hiring for mncs           0 to 1 Yr  \n",
      "5  uprighthc solutions private limited        10 to 20 Yrs  \n",
      "6                symphoni hr pvt. ltd.         8 to 10 Yrs  \n",
      "7                     spm hr solutions          4 to 6 Yrs  \n",
      "8                        techno endura           0 to 1 Yr  \n",
      "9                      aspect solution           0 to 1 Yr  \n"
     ]
    }
   ],
   "source": [
    "job_titles=[]\n",
    "job_locations=[]\n",
    "companies=[]\n",
    "experiences=[]\n",
    "location_tags=driver.find_elements(By.XPATH,'//div[@class=\" jobCard_jobCard_lists_item__YxRkV jobCard_locationIcon__zrWt2\"]')\n",
    "for i in location_tags:\n",
    "    l=i.text.strip()\n",
    "    job_locations.append(l)\n",
    "company_tags=driver.find_elements(By.XPATH,'//div[@class=\"jobCard_jobCard_cName__mYnow\"]')\n",
    "for i in company_tags:\n",
    "    c=i.text.strip()\n",
    "    companies.append(c)\n",
    "exp_tags=driver.find_elements(By.XPATH,'//div[@class=\" jobCard_jobCard_lists_item__YxRkV jobCard_jobIcon__3FB1t\"]')\n",
    "for i in exp_tags:\n",
    "    e=i.text.strip()\n",
    "    experiences.append(e)\n",
    "title_tags=driver.find_elements(By.XPATH,'//h2[@itemprop=\"name\"]')\n",
    "for i in title_tags:\n",
    "    t=i.text.strip()\n",
    "    job_titles.append(t)\n",
    "df=pd.DataFrame({'Job Title':job_titles[:10],'Location':job_locations[:10],'Company':companies[:10],'Experience required':experiences[:10]})\n",
    "print(df)\n",
    "    "
   ]
  },
  {
   "cell_type": "code",
   "execution_count": 29,
   "metadata": {},
   "outputs": [],
   "source": [
    "driver.quit()"
   ]
  },
  {
   "cell_type": "markdown",
   "metadata": {},
   "source": [
    "Q2: Write a python program to scrape data for ““Data Scientist” Job position in “Bangalore” location.\n",
    "You have to scrape the job-title, job-location, company_name, experience_required. You have to\n",
    "scrape first 10 jobs data.\n",
    "This task will be done in following steps:\n",
    "1. First get the webpage https://www.naukri.com/\n",
    "2. Enter “Data Analyst” in “Job title, Skills” field and enter “Bangalore” in “enter the location” field.\n",
    "3. Then click the searchbutton.\n",
    "4. Then scrape the data for the first 10 jobs results you get.\n",
    "5. Finally create a dataframe of the scraped data. "
   ]
  },
  {
   "cell_type": "code",
   "execution_count": 30,
   "metadata": {},
   "outputs": [],
   "source": [
    "driver=webdriver.Chrome()"
   ]
  },
  {
   "cell_type": "code",
   "execution_count": 31,
   "metadata": {},
   "outputs": [],
   "source": [
    "driver.get(\"https://www.naukri.com/\")"
   ]
  },
  {
   "cell_type": "code",
   "execution_count": 34,
   "metadata": {},
   "outputs": [],
   "source": [
    "designation=driver.find_element(By.CLASS_NAME,\"suggestor-input\")\n",
    "designation.send_keys('Data Scientist')"
   ]
  },
  {
   "cell_type": "code",
   "execution_count": 35,
   "metadata": {},
   "outputs": [],
   "source": [
    "location=driver.find_element(By.XPATH,\"/html/body/div[1]/div[7]/div/div/div[5]/div/div/div/div[1]/div/input\")\n",
    "location.send_keys('Bangalore')"
   ]
  },
  {
   "cell_type": "code",
   "execution_count": 36,
   "metadata": {},
   "outputs": [],
   "source": [
    "search=driver.find_element(By.CLASS_NAME,\"qsbSubmit\")\n",
    "search.click()"
   ]
  },
  {
   "cell_type": "code",
   "execution_count": 44,
   "metadata": {},
   "outputs": [
    {
     "name": "stdout",
     "output_type": "stream",
     "text": [
      "                                           Job Title  \\\n",
      "0                   Senior Data Scientist, Reporting   \n",
      "1                          Data Scientist, Marketing   \n",
      "2                                     Data Scientist   \n",
      "3                                  AI Data Scientist   \n",
      "4  Xoriant is hiring Senior Generative AI Engineer !   \n",
      "5                               GenAI Data Scientist   \n",
      "6                                Data Scientist HTHD   \n",
      "7                 Data Scientist (Analytic Engineer)   \n",
      "8                                     Data Scientist   \n",
      "9                Data Scientist @ Nttdata, Bangalore   \n",
      "\n",
      "                                            Location  \\\n",
      "0  Bangalore/Bengaluru, Kolkata, Mumbai, New Delh...   \n",
      "1  Bangalore/Bengaluru, Kolkata, Mumbai, New Delh...   \n",
      "2  Kolkata, Mumbai, New Delhi, Hyderabad, Pune, C...   \n",
      "3  Kolkata, Mumbai, New Delhi, Hyderabad, Pune, C...   \n",
      "4  Hybrid - Bangalore Rural, Karnataka, Pune, Mah...   \n",
      "5  Kolkata, Mumbai, New Delhi, Hyderabad, Pune, C...   \n",
      "6  Kolkata, Mumbai, New Delhi, Hyderabad, Pune, C...   \n",
      "7                                          Bengaluru   \n",
      "8                                          Bengaluru   \n",
      "9                         Bangalore Rural, Karnataka   \n",
      "\n",
      "                       Company Experience Required  \n",
      "0                     Coursera             6-7 Yrs  \n",
      "1                     Coursera             4-6 Yrs  \n",
      "2                         Ford             3-6 Yrs  \n",
      "3                         Ford             2-6 Yrs  \n",
      "4                      Xoriant            5-10 Yrs  \n",
      "5                         Ford             5-6 Yrs  \n",
      "6                         Ford             1-4 Yrs  \n",
      "7            Applied Materials            7-10 Yrs  \n",
      "8   Johnson and Johnson Kenvue             3-7 Yrs  \n",
      "9  NTT DATA BUSINESS SOLUTIONS             4-6 Yrs  \n"
     ]
    }
   ],
   "source": [
    "job_titles=[]\n",
    "job_locations=[]\n",
    "companies=[]\n",
    "experiences=[]\n",
    "title_tags=driver.find_elements(By.XPATH,'//div[@class=\"cust-job-tuple layout-wrapper lay-2 sjw__tuple \"]/div/a')\n",
    "for i in title_tags:\n",
    "    t=i.text.strip()\n",
    "    job_titles.append(t)\n",
    "locs_tags=driver.find_elements(By.XPATH,'//span[@class=\"locWdth\"]')\n",
    "for i in locs_tags:\n",
    "    l=i.text.strip()\n",
    "    job_locations.append(l)\n",
    "company_tags=driver.find_elements(By.XPATH,'//div[@class=\" row2\"]/span/a[1]')\n",
    "for i in company_tags:\n",
    "    c=i.text.strip()\n",
    "    companies.append(c)\n",
    "exp_tags=driver.find_elements(By.XPATH,'//span[@class=\"expwdth\"]')\n",
    "for i in exp_tags:\n",
    "    e=i.text.strip()\n",
    "    experiences.append(e)\n",
    "df=pd.DataFrame({'Job Title':job_titles[:10],'Location':job_locations[:10],'Company':companies[:10],'Experience Required':experiences[:10]})\n",
    "print(df)"
   ]
  },
  {
   "cell_type": "code",
   "execution_count": 45,
   "metadata": {},
   "outputs": [],
   "source": [
    "driver.quit()"
   ]
  },
  {
   "cell_type": "markdown",
   "metadata": {},
   "source": [
    "Q3: Scrape data of first 100 sunglasses listings on flipkart.com. You have to scrape four attributes:\n",
    "1. Brand\n",
    "2. ProductDescription\n",
    "3. Price "
   ]
  },
  {
   "cell_type": "code",
   "execution_count": 46,
   "metadata": {},
   "outputs": [],
   "source": [
    "driver=webdriver.Chrome()"
   ]
  },
  {
   "cell_type": "code",
   "execution_count": 47,
   "metadata": {},
   "outputs": [],
   "source": [
    "driver.get(\"https://www.flipkart.com/\")"
   ]
  },
  {
   "cell_type": "code",
   "execution_count": 48,
   "metadata": {},
   "outputs": [],
   "source": [
    "designation=driver.find_element(By.XPATH,\"/html/body/div[1]/div/div[1]/div/div/div/div/div[1]/div/div[1]/div/div[1]/div[1]/header/div[1]/div[2]/form/div/div/input\")\n",
    "designation.send_keys('sunglasses')"
   ]
  },
  {
   "cell_type": "code",
   "execution_count": 49,
   "metadata": {},
   "outputs": [],
   "source": [
    "search=driver.find_element(By.XPATH,\"/html/body/div[1]/div/div[1]/div/div/div/div/div[1]/div/div[1]/div/div[1]/div[1]/header/div[1]/div[2]/form/div/button\")\n",
    "search.click()"
   ]
  },
  {
   "cell_type": "code",
   "execution_count": 60,
   "metadata": {},
   "outputs": [],
   "source": [
    "brands=[]\n",
    "prod_desc=[]\n",
    "prices=[]\n",
    "discounts=[]"
   ]
  },
  {
   "cell_type": "code",
   "execution_count": 61,
   "metadata": {},
   "outputs": [],
   "source": [
    "start=0\n",
    "end=3\n",
    "for page in range(start,end):\n",
    "    \n",
    "    brand_tags=driver.find_elements(By.XPATH,'//div[@class=\"_2WkVRV\"]')\n",
    "    for i in brand_tags:\n",
    "        b=i.text.strip()\n",
    "        brands.append(b)\n",
    "    \n",
    "    prod_tags=driver.find_elements(By.XPATH,'//a[@class=\"IRpwTa\"]')\n",
    "    for i in prod_tags:\n",
    "        pds=i.text.strip()\n",
    "        prod_desc.append(pds)\n",
    "    \n",
    "    price_tags=driver.find_elements(By.XPATH,'//div[@class=\"_30jeq3\"]')\n",
    "    for i in price_tags:\n",
    "        p=i.text.strip()\n",
    "        prices.append(p)\n",
    "    \n",
    "    disc_tags=driver.find_elements(By.XPATH,'//div[@class=\"_3Ay6Sb\"]/span')\n",
    "    for i in disc_tags:\n",
    "        d=i.text.strip()\n",
    "        discounts.append(d)\n",
    "    next_button=driver.find_element(By.CLASS_NAME,\"_1LKTO3\")\n",
    "    next_button.click()\n",
    "    time.sleep(3)"
   ]
  },
  {
   "cell_type": "code",
   "execution_count": 63,
   "metadata": {},
   "outputs": [
    {
     "name": "stdout",
     "output_type": "stream",
     "text": [
      "             Brand                                Product Description   Price  \\\n",
      "0           Hooper          UV Protection Rectangular Sunglasses (46)    ₹487   \n",
      "1       Ann Taylor                UV Protection Round Sunglasses (51)  ₹2,499   \n",
      "2    VINCENT CHASE  by Lenskart UV Protection Cat-eye Sunglasses (61)    ₹499   \n",
      "3           AISLIN  UV Protection, Gradient Butterfly, Retro Squar...    ₹580   \n",
      "4         elegante  UV Protection Retro Square Sunglasses (Free Size)    ₹314   \n",
      "..             ...                                                ...     ...   \n",
      "96            IDEE              Mirrored Round Sunglasses (Free Size)  ₹1,549   \n",
      "97        elegante   Polarized, UV Protection Aviator Sunglasses (58)    ₹349   \n",
      "98          AISLIN               UV Protection Shield Sunglasses (54)    ₹542   \n",
      "99          RINEZA                     Gradient Round Sunglasses (54)    ₹239   \n",
      "100        Ray-Ban             Polarized Retro Square Sunglasses (55)  ₹7,749   \n",
      "\n",
      "    Discount  \n",
      "0    75% off  \n",
      "1    75% off  \n",
      "2    75% off  \n",
      "3    73% off  \n",
      "4    79% off  \n",
      "..       ...  \n",
      "96   45% off  \n",
      "97   76% off  \n",
      "98   76% off  \n",
      "99   53% off  \n",
      "100  20% off  \n",
      "\n",
      "[101 rows x 4 columns]\n"
     ]
    }
   ],
   "source": [
    "df=pd.DataFrame({'Brand':brands[:101],'Product Description':prod_desc[:101],'Price':prices[:101],'Discount':discounts[:101]})\n",
    "print(df)"
   ]
  },
  {
   "cell_type": "code",
   "execution_count": null,
   "metadata": {},
   "outputs": [],
   "source": []
  }
 ],
 "metadata": {
  "kernelspec": {
   "display_name": "Python 3",
   "language": "python",
   "name": "python3"
  },
  "language_info": {
   "codemirror_mode": {
    "name": "ipython",
    "version": 3
   },
   "file_extension": ".py",
   "mimetype": "text/x-python",
   "name": "python",
   "nbconvert_exporter": "python",
   "pygments_lexer": "ipython3",
   "version": "3.8.3"
  }
 },
 "nbformat": 4,
 "nbformat_minor": 4
}
