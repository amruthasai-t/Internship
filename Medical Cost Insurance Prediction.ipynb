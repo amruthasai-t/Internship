{
 "cells": [
  {
   "cell_type": "code",
   "execution_count": 73,
   "id": "76f6caa4",
   "metadata": {},
   "outputs": [],
   "source": [
    "import numpy as np\n",
    "import pandas as pd\n",
    "import matplotlib.pyplot as plt\n",
    "import seaborn as sns\n",
    "import warnings\n",
    "warnings.filterwarnings('ignore')\n",
    "\n",
    "from sklearn.preprocessing import LabelEncoder\n",
    "from scipy.stats import zscore\n",
    "\n",
    "from sklearn.model_selection import train_test_split\n",
    "from sklearn.metrics import mean_absolute_error\n",
    "from sklearn.metrics import mean_squared_error\n",
    "from sklearn.metrics import r2_score\n",
    "from sklearn.ensemble import GradientBoostingRegressor\n",
    "from sklearn.linear_model import LinearRegression\n",
    "from sklearn.ensemble import RandomForestRegressor\n",
    "from sklearn.tree import DecisionTreeRegressor\n",
    "from sklearn.neighbors import KNeighborsRegressor as KNN\n",
    "from sklearn.linear_model import Lasso,Ridge\n",
    "from sklearn.svm import SVR\n",
    "from sklearn.model_selection import cross_val_score"
   ]
  },
  {
   "cell_type": "code",
   "execution_count": 2,
   "id": "177b2889",
   "metadata": {},
   "outputs": [],
   "source": [
    "df=pd.read_csv('medical_cost_insurance.csv')"
   ]
  },
  {
   "cell_type": "code",
   "execution_count": 4,
   "id": "5a98fa13",
   "metadata": {},
   "outputs": [
    {
     "data": {
      "text/plain": [
       "(1338, 7)"
      ]
     },
     "execution_count": 4,
     "metadata": {},
     "output_type": "execute_result"
    }
   ],
   "source": [
    "df.shape"
   ]
  },
  {
   "cell_type": "code",
   "execution_count": 5,
   "id": "2f573171",
   "metadata": {},
   "outputs": [
    {
     "data": {
      "text/html": [
       "<div>\n",
       "<style scoped>\n",
       "    .dataframe tbody tr th:only-of-type {\n",
       "        vertical-align: middle;\n",
       "    }\n",
       "\n",
       "    .dataframe tbody tr th {\n",
       "        vertical-align: top;\n",
       "    }\n",
       "\n",
       "    .dataframe thead th {\n",
       "        text-align: right;\n",
       "    }\n",
       "</style>\n",
       "<table border=\"1\" class=\"dataframe\">\n",
       "  <thead>\n",
       "    <tr style=\"text-align: right;\">\n",
       "      <th></th>\n",
       "      <th>age</th>\n",
       "      <th>sex</th>\n",
       "      <th>bmi</th>\n",
       "      <th>children</th>\n",
       "      <th>smoker</th>\n",
       "      <th>region</th>\n",
       "      <th>charges</th>\n",
       "    </tr>\n",
       "  </thead>\n",
       "  <tbody>\n",
       "    <tr>\n",
       "      <th>0</th>\n",
       "      <td>19</td>\n",
       "      <td>female</td>\n",
       "      <td>27.900</td>\n",
       "      <td>0</td>\n",
       "      <td>yes</td>\n",
       "      <td>southwest</td>\n",
       "      <td>16884.92400</td>\n",
       "    </tr>\n",
       "    <tr>\n",
       "      <th>1</th>\n",
       "      <td>18</td>\n",
       "      <td>male</td>\n",
       "      <td>33.770</td>\n",
       "      <td>1</td>\n",
       "      <td>no</td>\n",
       "      <td>southeast</td>\n",
       "      <td>1725.55230</td>\n",
       "    </tr>\n",
       "    <tr>\n",
       "      <th>2</th>\n",
       "      <td>28</td>\n",
       "      <td>male</td>\n",
       "      <td>33.000</td>\n",
       "      <td>3</td>\n",
       "      <td>no</td>\n",
       "      <td>southeast</td>\n",
       "      <td>4449.46200</td>\n",
       "    </tr>\n",
       "    <tr>\n",
       "      <th>3</th>\n",
       "      <td>33</td>\n",
       "      <td>male</td>\n",
       "      <td>22.705</td>\n",
       "      <td>0</td>\n",
       "      <td>no</td>\n",
       "      <td>northwest</td>\n",
       "      <td>21984.47061</td>\n",
       "    </tr>\n",
       "    <tr>\n",
       "      <th>4</th>\n",
       "      <td>32</td>\n",
       "      <td>male</td>\n",
       "      <td>28.880</td>\n",
       "      <td>0</td>\n",
       "      <td>no</td>\n",
       "      <td>northwest</td>\n",
       "      <td>3866.85520</td>\n",
       "    </tr>\n",
       "  </tbody>\n",
       "</table>\n",
       "</div>"
      ],
      "text/plain": [
       "   age     sex     bmi  children smoker     region      charges\n",
       "0   19  female  27.900         0    yes  southwest  16884.92400\n",
       "1   18    male  33.770         1     no  southeast   1725.55230\n",
       "2   28    male  33.000         3     no  southeast   4449.46200\n",
       "3   33    male  22.705         0     no  northwest  21984.47061\n",
       "4   32    male  28.880         0     no  northwest   3866.85520"
      ]
     },
     "execution_count": 5,
     "metadata": {},
     "output_type": "execute_result"
    }
   ],
   "source": [
    "df.head()"
   ]
  },
  {
   "cell_type": "markdown",
   "id": "c07fc09f",
   "metadata": {},
   "source": [
    "We can see that our dataset has 1338 rows and 7 columns."
   ]
  },
  {
   "cell_type": "code",
   "execution_count": 6,
   "id": "4e8d90dc",
   "metadata": {},
   "outputs": [
    {
     "name": "stdout",
     "output_type": "stream",
     "text": [
      "<class 'pandas.core.frame.DataFrame'>\n",
      "RangeIndex: 1338 entries, 0 to 1337\n",
      "Data columns (total 7 columns):\n",
      " #   Column    Non-Null Count  Dtype  \n",
      "---  ------    --------------  -----  \n",
      " 0   age       1338 non-null   int64  \n",
      " 1   sex       1338 non-null   object \n",
      " 2   bmi       1338 non-null   float64\n",
      " 3   children  1338 non-null   int64  \n",
      " 4   smoker    1338 non-null   object \n",
      " 5   region    1338 non-null   object \n",
      " 6   charges   1338 non-null   float64\n",
      "dtypes: float64(2), int64(2), object(3)\n",
      "memory usage: 73.3+ KB\n"
     ]
    }
   ],
   "source": [
    "df.info()"
   ]
  },
  {
   "cell_type": "markdown",
   "id": "b622bbcb",
   "metadata": {},
   "source": [
    "We can see that there are 3 columns of object datatype."
   ]
  },
  {
   "cell_type": "code",
   "execution_count": 7,
   "id": "e11cbc6e",
   "metadata": {},
   "outputs": [
    {
     "data": {
      "text/plain": [
       "age         0\n",
       "sex         0\n",
       "bmi         0\n",
       "children    0\n",
       "smoker      0\n",
       "region      0\n",
       "charges     0\n",
       "dtype: int64"
      ]
     },
     "execution_count": 7,
     "metadata": {},
     "output_type": "execute_result"
    }
   ],
   "source": [
    "df.isnull().sum()"
   ]
  },
  {
   "cell_type": "code",
   "execution_count": 9,
   "id": "1b8245da",
   "metadata": {},
   "outputs": [
    {
     "data": {
      "text/plain": [
       "<Axes: >"
      ]
     },
     "execution_count": 9,
     "metadata": {},
     "output_type": "execute_result"
    },
    {
     "data": {
      "image/png": "[encoded data removed]",
      "text/plain": [
       "<Figure size 640x480 with 2 Axes>"
      ]
     },
     "metadata": {},
     "output_type": "display_data"
    }
   ],
   "source": [
    "sns.heatmap(df.isnull())"
   ]
  },
  {
   "cell_type": "markdown",
   "id": "3101d716",
   "metadata": {},
   "source": [
    "We can see that there are no null values in the dataset."
   ]
  },
  {
   "cell_type": "code",
   "execution_count": 13,
   "id": "04e6cfd7",
   "metadata": {},
   "outputs": [
    {
     "data": {
      "text/html": [
       "<div>\n",
       "<style scoped>\n",
       "    .dataframe tbody tr th:only-of-type {\n",
       "        vertical-align: middle;\n",
       "    }\n",
       "\n",
       "    .dataframe tbody tr th {\n",
       "        vertical-align: top;\n",
       "    }\n",
       "\n",
       "    .dataframe thead th {\n",
       "        text-align: right;\n",
       "    }\n",
       "</style>\n",
       "<table border=\"1\" class=\"dataframe\">\n",
       "  <thead>\n",
       "    <tr style=\"text-align: right;\">\n",
       "      <th></th>\n",
       "      <th>age</th>\n",
       "      <th>bmi</th>\n",
       "      <th>children</th>\n",
       "      <th>charges</th>\n",
       "    </tr>\n",
       "  </thead>\n",
       "  <tbody>\n",
       "    <tr>\n",
       "      <th>count</th>\n",
       "      <td>1338.000000</td>\n",
       "      <td>1338.000000</td>\n",
       "      <td>1338.000000</td>\n",
       "      <td>1338.000000</td>\n",
       "    </tr>\n",
       "    <tr>\n",
       "      <th>mean</th>\n",
       "      <td>39.207025</td>\n",
       "      <td>30.663397</td>\n",
       "      <td>1.094918</td>\n",
       "      <td>13270.422265</td>\n",
       "    </tr>\n",
       "    <tr>\n",
       "      <th>std</th>\n",
       "      <td>14.049960</td>\n",
       "      <td>6.098187</td>\n",
       "      <td>1.205493</td>\n",
       "      <td>12110.011237</td>\n",
       "    </tr>\n",
       "    <tr>\n",
       "      <th>min</th>\n",
       "      <td>18.000000</td>\n",
       "      <td>15.960000</td>\n",
       "      <td>0.000000</td>\n",
       "      <td>1121.873900</td>\n",
       "    </tr>\n",
       "    <tr>\n",
       "      <th>25%</th>\n",
       "      <td>27.000000</td>\n",
       "      <td>26.296250</td>\n",
       "      <td>0.000000</td>\n",
       "      <td>4740.287150</td>\n",
       "    </tr>\n",
       "    <tr>\n",
       "      <th>50%</th>\n",
       "      <td>39.000000</td>\n",
       "      <td>30.400000</td>\n",
       "      <td>1.000000</td>\n",
       "      <td>9382.033000</td>\n",
       "    </tr>\n",
       "    <tr>\n",
       "      <th>75%</th>\n",
       "      <td>51.000000</td>\n",
       "      <td>34.693750</td>\n",
       "      <td>2.000000</td>\n",
       "      <td>16639.912515</td>\n",
       "    </tr>\n",
       "    <tr>\n",
       "      <th>max</th>\n",
       "      <td>64.000000</td>\n",
       "      <td>53.130000</td>\n",
       "      <td>5.000000</td>\n",
       "      <td>63770.428010</td>\n",
       "    </tr>\n",
       "  </tbody>\n",
       "</table>\n",
       "</div>"
      ],
      "text/plain": [
       "               age          bmi     children       charges\n",
       "count  1338.000000  1338.000000  1338.000000   1338.000000\n",
       "mean     39.207025    30.663397     1.094918  13270.422265\n",
       "std      14.049960     6.098187     1.205493  12110.011237\n",
       "min      18.000000    15.960000     0.000000   1121.873900\n",
       "25%      27.000000    26.296250     0.000000   4740.287150\n",
       "50%      39.000000    30.400000     1.000000   9382.033000\n",
       "75%      51.000000    34.693750     2.000000  16639.912515\n",
       "max      64.000000    53.130000     5.000000  63770.428010"
      ]
     },
     "execution_count": 13,
     "metadata": {},
     "output_type": "execute_result"
    }
   ],
   "source": [
    "df.describe()"
   ]
  },
  {
   "cell_type": "markdown",
   "id": "3517e113",
   "metadata": {},
   "source": [
    "df.describe() gives statistical summary for the numerical columns. There are no negative values present in the statistical summary."
   ]
  },
  {
   "cell_type": "markdown",
   "id": "ef20b16f",
   "metadata": {},
   "source": [
    "From the above statistical summary, we can observe the following:\n",
    "1. Using the describe method We can see the count, mean, standard deviation, minimum, maximum and inter quantile values of our dataset.\n",
    "2. The counts of all the columns are the same which means there are no missing values in the dataset.\n",
    "3. The mean value is almost equal to the median (50%) value in most of the columns except for the target variable which means data is normally skewed for most of the columns.\n",
    "4. There are huge differences between 75% and maximum values in bmi and charges columns. There must be outliers present in the data."
   ]
  },
  {
   "cell_type": "code",
   "execution_count": 19,
   "id": "89f222e9",
   "metadata": {},
   "outputs": [],
   "source": [
    "label_encoder = LabelEncoder()\n",
    "df['region'] = label_encoder.fit_transform(df['region'])\n",
    "df['sex'] = label_encoder.fit_transform(df['sex'])\n",
    "df['smoker']=label_encoder.fit_transform(df['smoker'])"
   ]
  },
  {
   "cell_type": "code",
   "execution_count": 20,
   "id": "47831e3c",
   "metadata": {},
   "outputs": [
    {
     "data": {
      "text/html": [
       "<div>\n",
       "<style scoped>\n",
       "    .dataframe tbody tr th:only-of-type {\n",
       "        vertical-align: middle;\n",
       "    }\n",
       "\n",
       "    .dataframe tbody tr th {\n",
       "        vertical-align: top;\n",
       "    }\n",
       "\n",
       "    .dataframe thead th {\n",
       "        text-align: right;\n",
       "    }\n",
       "</style>\n",
       "<table border=\"1\" class=\"dataframe\">\n",
       "  <thead>\n",
       "    <tr style=\"text-align: right;\">\n",
       "      <th></th>\n",
       "      <th>age</th>\n",
       "      <th>sex</th>\n",
       "      <th>bmi</th>\n",
       "      <th>children</th>\n",
       "      <th>smoker</th>\n",
       "      <th>region</th>\n",
       "      <th>charges</th>\n",
       "    </tr>\n",
       "  </thead>\n",
       "  <tbody>\n",
       "    <tr>\n",
       "      <th>0</th>\n",
       "      <td>19</td>\n",
       "      <td>0</td>\n",
       "      <td>27.900</td>\n",
       "      <td>0</td>\n",
       "      <td>1</td>\n",
       "      <td>3</td>\n",
       "      <td>16884.92400</td>\n",
       "    </tr>\n",
       "    <tr>\n",
       "      <th>1</th>\n",
       "      <td>18</td>\n",
       "      <td>1</td>\n",
       "      <td>33.770</td>\n",
       "      <td>1</td>\n",
       "      <td>0</td>\n",
       "      <td>2</td>\n",
       "      <td>1725.55230</td>\n",
       "    </tr>\n",
       "    <tr>\n",
       "      <th>2</th>\n",
       "      <td>28</td>\n",
       "      <td>1</td>\n",
       "      <td>33.000</td>\n",
       "      <td>3</td>\n",
       "      <td>0</td>\n",
       "      <td>2</td>\n",
       "      <td>4449.46200</td>\n",
       "    </tr>\n",
       "    <tr>\n",
       "      <th>3</th>\n",
       "      <td>33</td>\n",
       "      <td>1</td>\n",
       "      <td>22.705</td>\n",
       "      <td>0</td>\n",
       "      <td>0</td>\n",
       "      <td>1</td>\n",
       "      <td>21984.47061</td>\n",
       "    </tr>\n",
       "    <tr>\n",
       "      <th>4</th>\n",
       "      <td>32</td>\n",
       "      <td>1</td>\n",
       "      <td>28.880</td>\n",
       "      <td>0</td>\n",
       "      <td>0</td>\n",
       "      <td>1</td>\n",
       "      <td>3866.85520</td>\n",
       "    </tr>\n",
       "    <tr>\n",
       "      <th>...</th>\n",
       "      <td>...</td>\n",
       "      <td>...</td>\n",
       "      <td>...</td>\n",
       "      <td>...</td>\n",
       "      <td>...</td>\n",
       "      <td>...</td>\n",
       "      <td>...</td>\n",
       "    </tr>\n",
       "    <tr>\n",
       "      <th>1333</th>\n",
       "      <td>50</td>\n",
       "      <td>1</td>\n",
       "      <td>30.970</td>\n",
       "      <td>3</td>\n",
       "      <td>0</td>\n",
       "      <td>1</td>\n",
       "      <td>10600.54830</td>\n",
       "    </tr>\n",
       "    <tr>\n",
       "      <th>1334</th>\n",
       "      <td>18</td>\n",
       "      <td>0</td>\n",
       "      <td>31.920</td>\n",
       "      <td>0</td>\n",
       "      <td>0</td>\n",
       "      <td>0</td>\n",
       "      <td>2205.98080</td>\n",
       "    </tr>\n",
       "    <tr>\n",
       "      <th>1335</th>\n",
       "      <td>18</td>\n",
       "      <td>0</td>\n",
       "      <td>36.850</td>\n",
       "      <td>0</td>\n",
       "      <td>0</td>\n",
       "      <td>2</td>\n",
       "      <td>1629.83350</td>\n",
       "    </tr>\n",
       "    <tr>\n",
       "      <th>1336</th>\n",
       "      <td>21</td>\n",
       "      <td>0</td>\n",
       "      <td>25.800</td>\n",
       "      <td>0</td>\n",
       "      <td>0</td>\n",
       "      <td>3</td>\n",
       "      <td>2007.94500</td>\n",
       "    </tr>\n",
       "    <tr>\n",
       "      <th>1337</th>\n",
       "      <td>61</td>\n",
       "      <td>0</td>\n",
       "      <td>29.070</td>\n",
       "      <td>0</td>\n",
       "      <td>1</td>\n",
       "      <td>1</td>\n",
       "      <td>29141.36030</td>\n",
       "    </tr>\n",
       "  </tbody>\n",
       "</table>\n",
       "<p>1338 rows × 7 columns</p>\n",
       "</div>"
      ],
      "text/plain": [
       "      age  sex     bmi  children  smoker  region      charges\n",
       "0      19    0  27.900         0       1       3  16884.92400\n",
       "1      18    1  33.770         1       0       2   1725.55230\n",
       "2      28    1  33.000         3       0       2   4449.46200\n",
       "3      33    1  22.705         0       0       1  21984.47061\n",
       "4      32    1  28.880         0       0       1   3866.85520\n",
       "...   ...  ...     ...       ...     ...     ...          ...\n",
       "1333   50    1  30.970         3       0       1  10600.54830\n",
       "1334   18    0  31.920         0       0       0   2205.98080\n",
       "1335   18    0  36.850         0       0       2   1629.83350\n",
       "1336   21    0  25.800         0       0       3   2007.94500\n",
       "1337   61    0  29.070         0       1       1  29141.36030\n",
       "\n",
       "[1338 rows x 7 columns]"
      ]
     },
     "execution_count": 20,
     "metadata": {},
     "output_type": "execute_result"
    }
   ],
   "source": [
    "df"
   ]
  },
  {
   "cell_type": "code",
   "execution_count": 39,
   "id": "4a1ff395",
   "metadata": {},
   "outputs": [
    {
     "data": {
      "text/plain": [
       "1"
      ]
     },
     "execution_count": 39,
     "metadata": {},
     "output_type": "execute_result"
    }
   ],
   "source": [
    "df.duplicated().sum()"
   ]
  },
  {
   "cell_type": "markdown",
   "id": "440b0f74",
   "metadata": {},
   "source": [
    "Through this, we can find out the number of duplicated values in the dataset and remove it."
   ]
  },
  {
   "cell_type": "code",
   "execution_count": 40,
   "id": "2f952860",
   "metadata": {},
   "outputs": [
    {
     "data": {
      "text/plain": [
       "0"
      ]
     },
     "execution_count": 40,
     "metadata": {},
     "output_type": "execute_result"
    }
   ],
   "source": [
    "df = df.drop_duplicates()\n",
    "df.duplicated().sum()"
   ]
  },
  {
   "cell_type": "code",
   "execution_count": 41,
   "id": "26505623",
   "metadata": {},
   "outputs": [
    {
     "data": {
      "text/html": [
       "<div>\n",
       "<style scoped>\n",
       "    .dataframe tbody tr th:only-of-type {\n",
       "        vertical-align: middle;\n",
       "    }\n",
       "\n",
       "    .dataframe tbody tr th {\n",
       "        vertical-align: top;\n",
       "    }\n",
       "\n",
       "    .dataframe thead th {\n",
       "        text-align: right;\n",
       "    }\n",
       "</style>\n",
       "<table border=\"1\" class=\"dataframe\">\n",
       "  <thead>\n",
       "    <tr style=\"text-align: right;\">\n",
       "      <th></th>\n",
       "      <th>age</th>\n",
       "      <th>sex</th>\n",
       "      <th>bmi</th>\n",
       "      <th>children</th>\n",
       "      <th>smoker</th>\n",
       "      <th>region</th>\n",
       "      <th>charges</th>\n",
       "    </tr>\n",
       "  </thead>\n",
       "  <tbody>\n",
       "    <tr>\n",
       "      <th>0</th>\n",
       "      <td>19</td>\n",
       "      <td>0</td>\n",
       "      <td>27.900</td>\n",
       "      <td>0</td>\n",
       "      <td>1</td>\n",
       "      <td>3</td>\n",
       "      <td>16884.92400</td>\n",
       "    </tr>\n",
       "    <tr>\n",
       "      <th>1</th>\n",
       "      <td>18</td>\n",
       "      <td>1</td>\n",
       "      <td>33.770</td>\n",
       "      <td>1</td>\n",
       "      <td>0</td>\n",
       "      <td>2</td>\n",
       "      <td>1725.55230</td>\n",
       "    </tr>\n",
       "    <tr>\n",
       "      <th>2</th>\n",
       "      <td>28</td>\n",
       "      <td>1</td>\n",
       "      <td>33.000</td>\n",
       "      <td>3</td>\n",
       "      <td>0</td>\n",
       "      <td>2</td>\n",
       "      <td>4449.46200</td>\n",
       "    </tr>\n",
       "    <tr>\n",
       "      <th>3</th>\n",
       "      <td>33</td>\n",
       "      <td>1</td>\n",
       "      <td>22.705</td>\n",
       "      <td>0</td>\n",
       "      <td>0</td>\n",
       "      <td>1</td>\n",
       "      <td>21984.47061</td>\n",
       "    </tr>\n",
       "    <tr>\n",
       "      <th>4</th>\n",
       "      <td>32</td>\n",
       "      <td>1</td>\n",
       "      <td>28.880</td>\n",
       "      <td>0</td>\n",
       "      <td>0</td>\n",
       "      <td>1</td>\n",
       "      <td>3866.85520</td>\n",
       "    </tr>\n",
       "    <tr>\n",
       "      <th>...</th>\n",
       "      <td>...</td>\n",
       "      <td>...</td>\n",
       "      <td>...</td>\n",
       "      <td>...</td>\n",
       "      <td>...</td>\n",
       "      <td>...</td>\n",
       "      <td>...</td>\n",
       "    </tr>\n",
       "    <tr>\n",
       "      <th>1333</th>\n",
       "      <td>50</td>\n",
       "      <td>1</td>\n",
       "      <td>30.970</td>\n",
       "      <td>3</td>\n",
       "      <td>0</td>\n",
       "      <td>1</td>\n",
       "      <td>10600.54830</td>\n",
       "    </tr>\n",
       "    <tr>\n",
       "      <th>1334</th>\n",
       "      <td>18</td>\n",
       "      <td>0</td>\n",
       "      <td>31.920</td>\n",
       "      <td>0</td>\n",
       "      <td>0</td>\n",
       "      <td>0</td>\n",
       "      <td>2205.98080</td>\n",
       "    </tr>\n",
       "    <tr>\n",
       "      <th>1335</th>\n",
       "      <td>18</td>\n",
       "      <td>0</td>\n",
       "      <td>36.850</td>\n",
       "      <td>0</td>\n",
       "      <td>0</td>\n",
       "      <td>2</td>\n",
       "      <td>1629.83350</td>\n",
       "    </tr>\n",
       "    <tr>\n",
       "      <th>1336</th>\n",
       "      <td>21</td>\n",
       "      <td>0</td>\n",
       "      <td>25.800</td>\n",
       "      <td>0</td>\n",
       "      <td>0</td>\n",
       "      <td>3</td>\n",
       "      <td>2007.94500</td>\n",
       "    </tr>\n",
       "    <tr>\n",
       "      <th>1337</th>\n",
       "      <td>61</td>\n",
       "      <td>0</td>\n",
       "      <td>29.070</td>\n",
       "      <td>0</td>\n",
       "      <td>1</td>\n",
       "      <td>1</td>\n",
       "      <td>29141.36030</td>\n",
       "    </tr>\n",
       "  </tbody>\n",
       "</table>\n",
       "<p>1337 rows × 7 columns</p>\n",
       "</div>"
      ],
      "text/plain": [
       "      age  sex     bmi  children  smoker  region      charges\n",
       "0      19    0  27.900         0       1       3  16884.92400\n",
       "1      18    1  33.770         1       0       2   1725.55230\n",
       "2      28    1  33.000         3       0       2   4449.46200\n",
       "3      33    1  22.705         0       0       1  21984.47061\n",
       "4      32    1  28.880         0       0       1   3866.85520\n",
       "...   ...  ...     ...       ...     ...     ...          ...\n",
       "1333   50    1  30.970         3       0       1  10600.54830\n",
       "1334   18    0  31.920         0       0       0   2205.98080\n",
       "1335   18    0  36.850         0       0       2   1629.83350\n",
       "1336   21    0  25.800         0       0       3   2007.94500\n",
       "1337   61    0  29.070         0       1       1  29141.36030\n",
       "\n",
       "[1337 rows x 7 columns]"
      ]
     },
     "execution_count": 41,
     "metadata": {},
     "output_type": "execute_result"
    }
   ],
   "source": [
    "df"
   ]
  },
  {
   "cell_type": "markdown",
   "id": "609c57b9",
   "metadata": {},
   "source": [
    "# Data Visualization"
   ]
  },
  {
   "cell_type": "code",
   "execution_count": 42,
   "id": "8f07cfa0",
   "metadata": {},
   "outputs": [
    {
     "data": {
      "text/plain": [
       "<Axes: xlabel='charges', ylabel='Density'>"
      ]
     },
     "execution_count": 42,
     "metadata": {},
     "output_type": "execute_result"
    },
    {
     "data": {
      "image/png": "[encoded data removed]",
      "text/plain": [
       "<Figure size 1000x600 with 1 Axes>"
      ]
     },
     "metadata": {},
     "output_type": "display_data"
    }
   ],
   "source": [
    "plt.figure(figsize = (10,6))\n",
    "plt.subplot(1,2,1)\n",
    "sns.distplot(df['charges'], color = 'g')"
   ]
  },
  {
   "cell_type": "markdown",
   "id": "3fddce35",
   "metadata": {},
   "source": [
    "The charges column is skewed to the right."
   ]
  },
  {
   "cell_type": "code",
   "execution_count": 43,
   "id": "d7c51c50",
   "metadata": {},
   "outputs": [
    {
     "data": {
      "image/png": "[encoded data removed]",
      "text/plain": [
       "<Figure size 640x480 with 4 Axes>"
      ]
     },
     "metadata": {},
     "output_type": "display_data"
    }
   ],
   "source": [
    "numerical_columns=['age','bmi','children','charges']\n",
    "p=1\n",
    "for i in numerical_columns:\n",
    "    if p<=4:\n",
    "        a=plt.subplot(2,2,p)\n",
    "        sns.boxplot(df[i],color='g')\n",
    "        plt.xlabel(i,fontsize=10)\n",
    "        plt.yticks(rotation=0,fontsize=10)\n",
    "    p+=1\n",
    "plt.tight_layout()"
   ]
  },
  {
   "cell_type": "markdown",
   "id": "ebe2f8cb",
   "metadata": {},
   "source": [
    "We can see that there aren't much outliers in the columns except for the bmi and charges columns."
   ]
  },
  {
   "cell_type": "code",
   "execution_count": 34,
   "id": "c5cf8371",
   "metadata": {},
   "outputs": [
    {
     "data": {
      "image/png": "[encoded data removed]",
      "text/plain": [
       "<Figure size 640x480 with 4 Axes>"
      ]
     },
     "metadata": {},
     "output_type": "display_data"
    }
   ],
   "source": [
    "p=1\n",
    "for i in numerical_columns:\n",
    "    if p<=4:\n",
    "        a=plt.subplot(2,2,p)\n",
    "        sns.distplot(df[i],color='g')\n",
    "        plt.xlabel(i,fontsize=10)\n",
    "        plt.yticks(rotation=0,fontsize=10)\n",
    "    p+=1\n",
    "plt.tight_layout()"
   ]
  },
  {
   "cell_type": "markdown",
   "id": "5e05c40e",
   "metadata": {},
   "source": [
    "We can see that they have almost normal distributions."
   ]
  },
  {
   "cell_type": "code",
   "execution_count": 44,
   "id": "49991039",
   "metadata": {},
   "outputs": [
    {
     "data": {
      "text/plain": [
       "<Axes: xlabel='region', ylabel='charges'>"
      ]
     },
     "execution_count": 44,
     "metadata": {},
     "output_type": "execute_result"
    },
    {
     "data": {
      "image/png": "[encoded data removed]",
      "text/plain": [
       "<Figure size 640x480 with 1 Axes>"
      ]
     },
     "metadata": {},
     "output_type": "display_data"
    }
   ],
   "source": [
    "sns.barplot(x ='region', y ='charges', data = df)"
   ]
  },
  {
   "cell_type": "markdown",
   "id": "68f326b8",
   "metadata": {},
   "source": [
    "We can see that the region 2 i.e. southeast region has higher medical charges."
   ]
  },
  {
   "cell_type": "code",
   "execution_count": 45,
   "id": "e40bf2f7",
   "metadata": {},
   "outputs": [
    {
     "data": {
      "text/plain": [
       "<Axes: xlabel='sex', ylabel='charges'>"
      ]
     },
     "execution_count": 45,
     "metadata": {},
     "output_type": "execute_result"
    },
    {
     "data": {
      "image/png": "[encoded data removed]",
      "text/plain": [
       "<Figure size 640x480 with 1 Axes>"
      ]
     },
     "metadata": {},
     "output_type": "display_data"
    }
   ],
   "source": [
    "sns.barplot(x ='sex', y ='charges', data = df)"
   ]
  },
  {
   "cell_type": "markdown",
   "id": "78bbab9a",
   "metadata": {},
   "source": [
    "We can see that number of males are higher than the number of females."
   ]
  },
  {
   "cell_type": "code",
   "execution_count": 46,
   "id": "2e2a3cfb",
   "metadata": {},
   "outputs": [
    {
     "data": {
      "text/plain": [
       "<Axes: xlabel='smoker', ylabel='charges'>"
      ]
     },
     "execution_count": 46,
     "metadata": {},
     "output_type": "execute_result"
    },
    {
     "data": {
      "image/png": "[encoded data removed]",
      "text/plain": [
       "<Figure size 640x480 with 1 Axes>"
      ]
     },
     "metadata": {},
     "output_type": "display_data"
    }
   ],
   "source": [
    "sns.barplot(x ='smoker', y ='charges', data = df)"
   ]
  },
  {
   "cell_type": "markdown",
   "id": "970360f3",
   "metadata": {},
   "source": [
    "There are more number of non smokers than smokers."
   ]
  },
  {
   "cell_type": "markdown",
   "id": "3078b2ad",
   "metadata": {},
   "source": [
    "# Outlier removal"
   ]
  },
  {
   "cell_type": "markdown",
   "id": "6509b5f9",
   "metadata": {},
   "source": [
    "We are removing outliers using z score methods which follows the below steps."
   ]
  },
  {
   "cell_type": "code",
   "execution_count": 48,
   "id": "550ae3d4",
   "metadata": {},
   "outputs": [
    {
     "data": {
      "text/html": [
       "<div>\n",
       "<style scoped>\n",
       "    .dataframe tbody tr th:only-of-type {\n",
       "        vertical-align: middle;\n",
       "    }\n",
       "\n",
       "    .dataframe tbody tr th {\n",
       "        vertical-align: top;\n",
       "    }\n",
       "\n",
       "    .dataframe thead th {\n",
       "        text-align: right;\n",
       "    }\n",
       "</style>\n",
       "<table border=\"1\" class=\"dataframe\">\n",
       "  <thead>\n",
       "    <tr style=\"text-align: right;\">\n",
       "      <th></th>\n",
       "      <th>age</th>\n",
       "      <th>sex</th>\n",
       "      <th>bmi</th>\n",
       "      <th>children</th>\n",
       "      <th>smoker</th>\n",
       "      <th>region</th>\n",
       "      <th>charges</th>\n",
       "    </tr>\n",
       "  </thead>\n",
       "  <tbody>\n",
       "    <tr>\n",
       "      <th>0</th>\n",
       "      <td>19</td>\n",
       "      <td>0</td>\n",
       "      <td>27.900</td>\n",
       "      <td>0</td>\n",
       "      <td>1</td>\n",
       "      <td>3</td>\n",
       "      <td>16884.92400</td>\n",
       "    </tr>\n",
       "    <tr>\n",
       "      <th>1</th>\n",
       "      <td>18</td>\n",
       "      <td>1</td>\n",
       "      <td>33.770</td>\n",
       "      <td>1</td>\n",
       "      <td>0</td>\n",
       "      <td>2</td>\n",
       "      <td>1725.55230</td>\n",
       "    </tr>\n",
       "    <tr>\n",
       "      <th>2</th>\n",
       "      <td>28</td>\n",
       "      <td>1</td>\n",
       "      <td>33.000</td>\n",
       "      <td>3</td>\n",
       "      <td>0</td>\n",
       "      <td>2</td>\n",
       "      <td>4449.46200</td>\n",
       "    </tr>\n",
       "    <tr>\n",
       "      <th>3</th>\n",
       "      <td>33</td>\n",
       "      <td>1</td>\n",
       "      <td>22.705</td>\n",
       "      <td>0</td>\n",
       "      <td>0</td>\n",
       "      <td>1</td>\n",
       "      <td>21984.47061</td>\n",
       "    </tr>\n",
       "    <tr>\n",
       "      <th>4</th>\n",
       "      <td>32</td>\n",
       "      <td>1</td>\n",
       "      <td>28.880</td>\n",
       "      <td>0</td>\n",
       "      <td>0</td>\n",
       "      <td>1</td>\n",
       "      <td>3866.85520</td>\n",
       "    </tr>\n",
       "    <tr>\n",
       "      <th>...</th>\n",
       "      <td>...</td>\n",
       "      <td>...</td>\n",
       "      <td>...</td>\n",
       "      <td>...</td>\n",
       "      <td>...</td>\n",
       "      <td>...</td>\n",
       "      <td>...</td>\n",
       "    </tr>\n",
       "    <tr>\n",
       "      <th>1333</th>\n",
       "      <td>50</td>\n",
       "      <td>1</td>\n",
       "      <td>30.970</td>\n",
       "      <td>3</td>\n",
       "      <td>0</td>\n",
       "      <td>1</td>\n",
       "      <td>10600.54830</td>\n",
       "    </tr>\n",
       "    <tr>\n",
       "      <th>1334</th>\n",
       "      <td>18</td>\n",
       "      <td>0</td>\n",
       "      <td>31.920</td>\n",
       "      <td>0</td>\n",
       "      <td>0</td>\n",
       "      <td>0</td>\n",
       "      <td>2205.98080</td>\n",
       "    </tr>\n",
       "    <tr>\n",
       "      <th>1335</th>\n",
       "      <td>18</td>\n",
       "      <td>0</td>\n",
       "      <td>36.850</td>\n",
       "      <td>0</td>\n",
       "      <td>0</td>\n",
       "      <td>2</td>\n",
       "      <td>1629.83350</td>\n",
       "    </tr>\n",
       "    <tr>\n",
       "      <th>1336</th>\n",
       "      <td>21</td>\n",
       "      <td>0</td>\n",
       "      <td>25.800</td>\n",
       "      <td>0</td>\n",
       "      <td>0</td>\n",
       "      <td>3</td>\n",
       "      <td>2007.94500</td>\n",
       "    </tr>\n",
       "    <tr>\n",
       "      <th>1337</th>\n",
       "      <td>61</td>\n",
       "      <td>0</td>\n",
       "      <td>29.070</td>\n",
       "      <td>0</td>\n",
       "      <td>1</td>\n",
       "      <td>1</td>\n",
       "      <td>29141.36030</td>\n",
       "    </tr>\n",
       "  </tbody>\n",
       "</table>\n",
       "<p>1308 rows × 7 columns</p>\n",
       "</div>"
      ],
      "text/plain": [
       "      age  sex     bmi  children  smoker  region      charges\n",
       "0      19    0  27.900         0       1       3  16884.92400\n",
       "1      18    1  33.770         1       0       2   1725.55230\n",
       "2      28    1  33.000         3       0       2   4449.46200\n",
       "3      33    1  22.705         0       0       1  21984.47061\n",
       "4      32    1  28.880         0       0       1   3866.85520\n",
       "...   ...  ...     ...       ...     ...     ...          ...\n",
       "1333   50    1  30.970         3       0       1  10600.54830\n",
       "1334   18    0  31.920         0       0       0   2205.98080\n",
       "1335   18    0  36.850         0       0       2   1629.83350\n",
       "1336   21    0  25.800         0       0       3   2007.94500\n",
       "1337   61    0  29.070         0       1       1  29141.36030\n",
       "\n",
       "[1308 rows x 7 columns]"
      ]
     },
     "execution_count": 48,
     "metadata": {},
     "output_type": "execute_result"
    }
   ],
   "source": [
    "z=np.abs(zscore(df))\n",
    "threshold=3\n",
    "np.where(z>3)\n",
    "df=df[(z<3).all(axis=1)]\n",
    "df"
   ]
  },
  {
   "cell_type": "markdown",
   "id": "b3c2a8cf",
   "metadata": {},
   "source": [
    "We have removed the outliers, we can see that the dataset is reduced."
   ]
  },
  {
   "cell_type": "code",
   "execution_count": 49,
   "id": "40728578",
   "metadata": {},
   "outputs": [
    {
     "data": {
      "text/plain": [
       "(1308, 7)"
      ]
     },
     "execution_count": 49,
     "metadata": {},
     "output_type": "execute_result"
    }
   ],
   "source": [
    "df.shape"
   ]
  },
  {
   "cell_type": "code",
   "execution_count": 53,
   "id": "c2c03bb4",
   "metadata": {},
   "outputs": [
    {
     "data": {
      "text/html": [
       "<div>\n",
       "<style scoped>\n",
       "    .dataframe tbody tr th:only-of-type {\n",
       "        vertical-align: middle;\n",
       "    }\n",
       "\n",
       "    .dataframe tbody tr th {\n",
       "        vertical-align: top;\n",
       "    }\n",
       "\n",
       "    .dataframe thead th {\n",
       "        text-align: right;\n",
       "    }\n",
       "</style>\n",
       "<table border=\"1\" class=\"dataframe\">\n",
       "  <thead>\n",
       "    <tr style=\"text-align: right;\">\n",
       "      <th></th>\n",
       "      <th>age</th>\n",
       "      <th>sex</th>\n",
       "      <th>bmi</th>\n",
       "      <th>children</th>\n",
       "      <th>smoker</th>\n",
       "      <th>region</th>\n",
       "      <th>charges</th>\n",
       "    </tr>\n",
       "  </thead>\n",
       "  <tbody>\n",
       "    <tr>\n",
       "      <th>age</th>\n",
       "      <td>1.000000</td>\n",
       "      <td>-0.018180</td>\n",
       "      <td>0.118272</td>\n",
       "      <td>0.058142</td>\n",
       "      <td>-0.029671</td>\n",
       "      <td>0.002619</td>\n",
       "      <td>0.304541</td>\n",
       "    </tr>\n",
       "    <tr>\n",
       "      <th>sex</th>\n",
       "      <td>-0.018180</td>\n",
       "      <td>1.000000</td>\n",
       "      <td>0.042514</td>\n",
       "      <td>0.014774</td>\n",
       "      <td>0.079479</td>\n",
       "      <td>0.003434</td>\n",
       "      <td>0.060242</td>\n",
       "    </tr>\n",
       "    <tr>\n",
       "      <th>bmi</th>\n",
       "      <td>0.118272</td>\n",
       "      <td>0.042514</td>\n",
       "      <td>1.000000</td>\n",
       "      <td>0.029927</td>\n",
       "      <td>-0.005289</td>\n",
       "      <td>0.160139</td>\n",
       "      <td>0.191523</td>\n",
       "    </tr>\n",
       "    <tr>\n",
       "      <th>children</th>\n",
       "      <td>0.058142</td>\n",
       "      <td>0.014774</td>\n",
       "      <td>0.029927</td>\n",
       "      <td>1.000000</td>\n",
       "      <td>0.028498</td>\n",
       "      <td>-0.003303</td>\n",
       "      <td>0.099814</td>\n",
       "    </tr>\n",
       "    <tr>\n",
       "      <th>smoker</th>\n",
       "      <td>-0.029671</td>\n",
       "      <td>0.079479</td>\n",
       "      <td>-0.005289</td>\n",
       "      <td>0.028498</td>\n",
       "      <td>1.000000</td>\n",
       "      <td>-0.003651</td>\n",
       "      <td>0.785115</td>\n",
       "    </tr>\n",
       "    <tr>\n",
       "      <th>region</th>\n",
       "      <td>0.002619</td>\n",
       "      <td>0.003434</td>\n",
       "      <td>0.160139</td>\n",
       "      <td>-0.003303</td>\n",
       "      <td>-0.003651</td>\n",
       "      <td>1.000000</td>\n",
       "      <td>-0.007978</td>\n",
       "    </tr>\n",
       "    <tr>\n",
       "      <th>charges</th>\n",
       "      <td>0.304541</td>\n",
       "      <td>0.060242</td>\n",
       "      <td>0.191523</td>\n",
       "      <td>0.099814</td>\n",
       "      <td>0.785115</td>\n",
       "      <td>-0.007978</td>\n",
       "      <td>1.000000</td>\n",
       "    </tr>\n",
       "  </tbody>\n",
       "</table>\n",
       "</div>"
      ],
      "text/plain": [
       "               age       sex       bmi  children    smoker    region   charges\n",
       "age       1.000000 -0.018180  0.118272  0.058142 -0.029671  0.002619  0.304541\n",
       "sex      -0.018180  1.000000  0.042514  0.014774  0.079479  0.003434  0.060242\n",
       "bmi       0.118272  0.042514  1.000000  0.029927 -0.005289  0.160139  0.191523\n",
       "children  0.058142  0.014774  0.029927  1.000000  0.028498 -0.003303  0.099814\n",
       "smoker   -0.029671  0.079479 -0.005289  0.028498  1.000000 -0.003651  0.785115\n",
       "region    0.002619  0.003434  0.160139 -0.003303 -0.003651  1.000000 -0.007978\n",
       "charges   0.304541  0.060242  0.191523  0.099814  0.785115 -0.007978  1.000000"
      ]
     },
     "execution_count": 53,
     "metadata": {},
     "output_type": "execute_result"
    }
   ],
   "source": [
    "df.corr()"
   ]
  },
  {
   "cell_type": "markdown",
   "id": "23606571",
   "metadata": {},
   "source": [
    "There is negative correlation between region and charges. "
   ]
  },
  {
   "cell_type": "markdown",
   "id": "a6b07405",
   "metadata": {},
   "source": [
    "Dividing the dataset into X and Y:"
   ]
  },
  {
   "cell_type": "code",
   "execution_count": 56,
   "id": "38f0db09",
   "metadata": {},
   "outputs": [],
   "source": [
    "x=df.drop(['charges'],axis=1)\n",
    "y=df['charges']"
   ]
  },
  {
   "cell_type": "markdown",
   "id": "71081460",
   "metadata": {},
   "source": [
    "Finding the best random state by finding out the maximum R2 score:"
   ]
  },
  {
   "cell_type": "code",
   "execution_count": 59,
   "id": "48bb7f93",
   "metadata": {},
   "outputs": [
    {
     "name": "stdout",
     "output_type": "stream",
     "text": [
      "Maximum r2 score:  0.8250853352804666  on random state  60\n"
     ]
    }
   ],
   "source": [
    "#finding the best random state\n",
    "maxAccu=0\n",
    "maxRS=0\n",
    "for i in range(1,200):\n",
    "    x_train,x_test,y_train,y_test=train_test_split(x,y,test_size=0.2,random_state=i)\n",
    "    lr=LinearRegression()\n",
    "    lr.fit(x_train,y_train)\n",
    "    pred=lr.predict(x_test)\n",
    "    acc=r2_score(y_test,pred)\n",
    "    if acc>maxAccu:\n",
    "        maxAccu=acc\n",
    "        maxRS=i\n",
    "print(\"Maximum r2 score: \",maxAccu,\" on random state \",maxRS)"
   ]
  },
  {
   "cell_type": "markdown",
   "id": "6a49ff86",
   "metadata": {},
   "source": [
    "Splitting the dataset into training data and testing data:"
   ]
  },
  {
   "cell_type": "code",
   "execution_count": 60,
   "id": "0714f0b8",
   "metadata": {},
   "outputs": [],
   "source": [
    "x_train,x_test,y_train,y_test=train_test_split(x,y,test_size=0.2,random_state=maxRS)"
   ]
  },
  {
   "cell_type": "markdown",
   "id": "ea5027cf",
   "metadata": {},
   "source": [
    "Linear Regression"
   ]
  },
  {
   "cell_type": "code",
   "execution_count": 62,
   "id": "7d85630f",
   "metadata": {},
   "outputs": [
    {
     "name": "stdout",
     "output_type": "stream",
     "text": [
      "LinearRegression()\n",
      "R2 Score:  0.8250853352804666\n",
      "R2 Score on training data:  0.7318076133321468\n",
      "Mean Absolute Error:  3659.652626581927\n",
      "Mean Squared Error:  26643737.16581418\n",
      "Root Mean Squared Error:  5161.757178114269\n"
     ]
    }
   ],
   "source": [
    "lr=LinearRegression()\n",
    "lr.fit(x_train,y_train)\n",
    "predlr=lr.predict(x_test)\n",
    "predtrain=lr.predict(x_train)\n",
    "print(lr)\n",
    "print('R2 Score: ',r2_score(y_test,predlr))\n",
    "print('R2 Score on training data: ',r2_score(y_train,predtrain))\n",
    "print('Mean Absolute Error: ',mean_absolute_error(y_test,predlr))\n",
    "print('Mean Squared Error: ',mean_squared_error(y_test,predlr))\n",
    "print('Root Mean Squared Error: ',np.sqrt(mean_squared_error(y_test,predlr)))"
   ]
  },
  {
   "cell_type": "markdown",
   "id": "d84a2a70",
   "metadata": {},
   "source": [
    "Random Forest Regressor"
   ]
  },
  {
   "cell_type": "code",
   "execution_count": 65,
   "id": "ac367c4f",
   "metadata": {},
   "outputs": [
    {
     "name": "stdout",
     "output_type": "stream",
     "text": [
      "RandomForestRegressor()\n",
      "R2 Score:  0.9014970166058185\n",
      "R2 Score on training data:  0.9743754582332461\n",
      "Mean Absolute Error:  2248.7224121045824\n",
      "Mean Squared Error:  15004388.590352684\n",
      "Root Mean Squared Error:  3873.5498693514564\n"
     ]
    }
   ],
   "source": [
    "rfr=RandomForestRegressor()\n",
    "rfr.fit(x_train,y_train)\n",
    "predrfr=rfr.predict(x_test)\n",
    "predtrain=rfr.predict(x_train)\n",
    "print(rfr)\n",
    "print('R2 Score: ',r2_score(y_test,predrfr))\n",
    "print('R2 Score on training data: ',r2_score(y_train,predtrain))\n",
    "print('Mean Absolute Error: ',mean_absolute_error(y_test,predrfr))\n",
    "print('Mean Squared Error: ',mean_squared_error(y_test,predrfr))\n",
    "print('Root Mean Squared Error: ',np.sqrt(mean_squared_error(y_test,predrfr)))"
   ]
  },
  {
   "cell_type": "markdown",
   "id": "c58c7805",
   "metadata": {},
   "source": [
    "Decision Tree Regressor"
   ]
  },
  {
   "cell_type": "code",
   "execution_count": 66,
   "id": "648512e7",
   "metadata": {},
   "outputs": [
    {
     "name": "stdout",
     "output_type": "stream",
     "text": [
      "DecisionTreeRegressor()\n",
      "R2 Score:  0.7760367135023258\n",
      "R2 Score on training data:  1.0\n",
      "Mean Absolute Error:  2640.751016793893\n",
      "Mean Squared Error:  34115029.46196134\n",
      "Root Mean Squared Error:  5840.8072611550315\n"
     ]
    }
   ],
   "source": [
    "dtr=DecisionTreeRegressor()\n",
    "dtr.fit(x_train,y_train)\n",
    "preddtr=dtr.predict(x_test)\n",
    "predtrain=dtr.predict(x_train)\n",
    "print(dtr)\n",
    "print('R2 Score: ',r2_score(y_test,preddtr))\n",
    "print('R2 Score on training data: ',r2_score(y_train,predtrain))\n",
    "print('Mean Absolute Error: ',mean_absolute_error(y_test,preddtr))\n",
    "print('Mean Squared Error: ',mean_squared_error(y_test,preddtr))\n",
    "print('Root Mean Squared Error: ',np.sqrt(mean_squared_error(y_test,preddtr)))"
   ]
  },
  {
   "cell_type": "markdown",
   "id": "c69e247b",
   "metadata": {},
   "source": [
    "K Neighbors Regressor:"
   ]
  },
  {
   "cell_type": "code",
   "execution_count": 67,
   "id": "ddf4d467",
   "metadata": {},
   "outputs": [
    {
     "name": "stdout",
     "output_type": "stream",
     "text": [
      "KNeighborsRegressor()\n",
      "R2 Score:  0.1822041961993991\n",
      "R2 Score on training data:  0.382695697498907\n",
      "Mean Absolute Error:  7955.333179364886\n",
      "Mean Squared Error:  124570095.29021883\n",
      "Root Mean Squared Error:  11161.097405283175\n"
     ]
    }
   ],
   "source": [
    "knn=KNN()\n",
    "knn.fit(x_train,y_train)\n",
    "predknn=knn.predict(x_test)\n",
    "predtrain=knn.predict(x_train)\n",
    "print(knn)\n",
    "print('R2 Score: ',r2_score(y_test,predknn))\n",
    "print('R2 Score on training data: ',r2_score(y_train,predtrain))\n",
    "print('Mean Absolute Error: ',mean_absolute_error(y_test,predknn))\n",
    "print('Mean Squared Error: ',mean_squared_error(y_test,predknn))\n",
    "print('Root Mean Squared Error: ',np.sqrt(mean_squared_error(y_test,predknn)))"
   ]
  },
  {
   "cell_type": "markdown",
   "id": "cbfb243b",
   "metadata": {},
   "source": [
    "Lasso:"
   ]
  },
  {
   "cell_type": "code",
   "execution_count": 68,
   "id": "828c5ca8",
   "metadata": {},
   "outputs": [
    {
     "name": "stdout",
     "output_type": "stream",
     "text": [
      "Lasso()\n",
      "R2 Score:  0.8250568191697178\n",
      "R2 Score on training data:  0.731807516662605\n",
      "Mean Absolute Error:  3660.2102550452305\n",
      "Mean Squared Error:  26648080.85970056\n",
      "Root Mean Squared Error:  5162.177918253163\n"
     ]
    }
   ],
   "source": [
    "l=Lasso()\n",
    "l.fit(x_train,y_train)\n",
    "predl=l.predict(x_test)\n",
    "predtrain=l.predict(x_train)\n",
    "print(l)\n",
    "print('R2 Score: ',r2_score(y_test,predl))\n",
    "print('R2 Score on training data: ',r2_score(y_train,predtrain))\n",
    "print('Mean Absolute Error: ',mean_absolute_error(y_test,predl))\n",
    "print('Mean Squared Error: ',mean_squared_error(y_test,predl))\n",
    "print('Root Mean Squared Error: ',np.sqrt(mean_squared_error(y_test,predl)))"
   ]
  },
  {
   "cell_type": "markdown",
   "id": "6eadd24f",
   "metadata": {},
   "source": [
    "Ridge:"
   ]
  },
  {
   "cell_type": "code",
   "execution_count": 69,
   "id": "b38d97c0",
   "metadata": {},
   "outputs": [
    {
     "name": "stdout",
     "output_type": "stream",
     "text": [
      "Ridge()\n",
      "R2 Score:  0.8243363648717755\n",
      "R2 Score on training data:  0.7317859364893067\n",
      "Mean Absolute Error:  3675.2263638077766\n",
      "Mean Squared Error:  26757823.487542175\n",
      "Root Mean Squared Error:  5172.796486190247\n"
     ]
    }
   ],
   "source": [
    "r=Ridge()\n",
    "r.fit(x_train,y_train)\n",
    "predr=r.predict(x_test)\n",
    "predtrain=r.predict(x_train)\n",
    "print(r)\n",
    "print('R2 Score: ',r2_score(y_test,predr))\n",
    "print('R2 Score on training data: ',r2_score(y_train,predtrain))\n",
    "print('Mean Absolute Error: ',mean_absolute_error(y_test,predr))\n",
    "print('Mean Squared Error: ',mean_squared_error(y_test,predr))\n",
    "print('Root Mean Squared Error: ',np.sqrt(mean_squared_error(y_test,predr)))"
   ]
  },
  {
   "cell_type": "markdown",
   "id": "dfe49231",
   "metadata": {},
   "source": [
    "Support Vector Regressor:"
   ]
  },
  {
   "cell_type": "code",
   "execution_count": 80,
   "id": "a4e285e4",
   "metadata": {},
   "outputs": [
    {
     "name": "stdout",
     "output_type": "stream",
     "text": [
      "SVR()\n",
      "R2 Score:  -0.07281532165850013\n",
      "R2 Score on training data:  -0.09420023084652795\n",
      "Mean Absolute Error:  8251.901462731917\n",
      "Mean Squared Error:  163415740.49014208\n",
      "Root Mean Squared Error:  12783.416620377437\n"
     ]
    }
   ],
   "source": [
    "s=SVR()\n",
    "s.fit(x_train,y_train)\n",
    "preds=s.predict(x_test)\n",
    "predtrain=s.predict(x_train)\n",
    "print(s)\n",
    "print('R2 Score: ',r2_score(y_test,preds))\n",
    "print('R2 Score on training data: ',r2_score(y_train,predtrain))\n",
    "print('Mean Absolute Error: ',mean_absolute_error(y_test,preds))\n",
    "print('Mean Squared Error: ',mean_squared_error(y_test,preds))\n",
    "print('Root Mean Squared Error: ',np.sqrt(mean_squared_error(y_test,preds)))"
   ]
  },
  {
   "cell_type": "markdown",
   "id": "77a61cb6",
   "metadata": {},
   "source": [
    "Gradient Boosting Regressor:"
   ]
  },
  {
   "cell_type": "code",
   "execution_count": 71,
   "id": "3c17d2ee",
   "metadata": {},
   "outputs": [
    {
     "name": "stdout",
     "output_type": "stream",
     "text": [
      "GradientBoostingRegressor()\n",
      "R2 Score:  0.9257854764023761\n",
      "R2 Score on training data:  0.88854157414276\n",
      "Mean Absolute Error:  2017.9254998571653\n",
      "Mean Squared Error:  11304668.272336043\n",
      "Root Mean Squared Error:  3362.2415547274477\n"
     ]
    }
   ],
   "source": [
    "gbr=GradientBoostingRegressor()\n",
    "gbr.fit(x_train,y_train)\n",
    "predgbr=gbr.predict(x_test)\n",
    "predtrain=gbr.predict(x_train)\n",
    "print(gbr)\n",
    "print('R2 Score: ',r2_score(y_test,predgbr))\n",
    "print('R2 Score on training data: ',r2_score(y_train,predtrain))\n",
    "print('Mean Absolute Error: ',mean_absolute_error(y_test,predgbr))\n",
    "print('Mean Squared Error: ',mean_squared_error(y_test,predgbr))\n",
    "print('Root Mean Squared Error: ',np.sqrt(mean_squared_error(y_test,predgbr)))"
   ]
  },
  {
   "cell_type": "code",
   "execution_count": 74,
   "id": "a01504b5",
   "metadata": {},
   "outputs": [
    {
     "name": "stdout",
     "output_type": "stream",
     "text": [
      "[0.7633674  0.71275448 0.77995497 0.73048268 0.7662308 ]\n",
      "0.7505580662519831\n",
      "Difference between R2 score and cross validation score:  0.0745272690284835\n"
     ]
    }
   ],
   "source": [
    "s=cross_val_score(lr,x,y)\n",
    "print(s)\n",
    "print(s.mean())\n",
    "print('Difference between R2 score and cross validation score: ',r2_score(y_test,predlr)-s.mean())"
   ]
  },
  {
   "cell_type": "code",
   "execution_count": 75,
   "id": "79c70536",
   "metadata": {},
   "outputs": [
    {
     "name": "stdout",
     "output_type": "stream",
     "text": [
      "[0.85164398 0.78160171 0.84637242 0.83083305 0.85150282]\n",
      "0.8323907950505584\n",
      "Difference between R2 score and cross validation score:  0.06910622155526014\n"
     ]
    }
   ],
   "source": [
    "s1=cross_val_score(rfr,x,y)\n",
    "print(s1)\n",
    "print(s1.mean())\n",
    "print('Difference between R2 score and cross validation score: ',r2_score(y_test,predrfr)-s1.mean())"
   ]
  },
  {
   "cell_type": "code",
   "execution_count": 76,
   "id": "54547731",
   "metadata": {},
   "outputs": [
    {
     "name": "stdout",
     "output_type": "stream",
     "text": [
      "[0.77625528 0.64975108 0.62190363 0.74015862 0.64112752]\n",
      "0.6858392253695438\n",
      "Difference between R2 score and cross validation score:  0.09019748813278206\n"
     ]
    }
   ],
   "source": [
    "s2=cross_val_score(dtr,x,y)\n",
    "print(s2)\n",
    "print(s2.mean())\n",
    "print('Difference between R2 score and cross validation score: ',r2_score(y_test,preddtr)-s2.mean())"
   ]
  },
  {
   "cell_type": "code",
   "execution_count": 77,
   "id": "332b6d5b",
   "metadata": {},
   "outputs": [
    {
     "name": "stdout",
     "output_type": "stream",
     "text": [
      "[0.15626355 0.04778171 0.06105343 0.10229236 0.15970722]\n",
      "0.10541965372767348\n",
      "Difference between R2 score and cross validation score:  0.07678454247172561\n"
     ]
    }
   ],
   "source": [
    "s3=cross_val_score(knn,x,y)\n",
    "print(s3)\n",
    "print(s3.mean())\n",
    "print('Difference between R2 score and cross validation score: ',r2_score(y_test,predknn)-s3.mean())"
   ]
  },
  {
   "cell_type": "code",
   "execution_count": 78,
   "id": "32469fcb",
   "metadata": {},
   "outputs": [
    {
     "name": "stdout",
     "output_type": "stream",
     "text": [
      "[0.76338266 0.71277156 0.7799302  0.730497   0.76622424]\n",
      "0.7505611318690282\n",
      "Difference between R2 score and cross validation score:  0.07449568730068967\n"
     ]
    }
   ],
   "source": [
    "s4=cross_val_score(l,x,y)\n",
    "print(s4)\n",
    "print(s4.mean())\n",
    "print('Difference between R2 score and cross validation score: ',r2_score(y_test,predl)-s4.mean())"
   ]
  },
  {
   "cell_type": "code",
   "execution_count": 79,
   "id": "8c2b872f",
   "metadata": {},
   "outputs": [
    {
     "name": "stdout",
     "output_type": "stream",
     "text": [
      "[0.76339395 0.71285013 0.77939912 0.73095095 0.76604017]\n",
      "0.750526864572213\n",
      "Difference between R2 score and cross validation score:  0.07380950029956257\n"
     ]
    }
   ],
   "source": [
    "s5=cross_val_score(r,x,y)\n",
    "print(s5)\n",
    "print(s5.mean())\n",
    "print('Difference between R2 score and cross validation score: ',r2_score(y_test,predr)-s5.mean())"
   ]
  },
  {
   "cell_type": "code",
   "execution_count": 81,
   "id": "1638ec83",
   "metadata": {},
   "outputs": [
    {
     "name": "stdout",
     "output_type": "stream",
     "text": [
      "[-0.11467512 -0.11141436 -0.07285578 -0.09988027 -0.10697302]\n",
      "-0.10115971090341214\n",
      "Difference between R2 score and cross validation score:  0.028344389244912005\n"
     ]
    }
   ],
   "source": [
    "s6=cross_val_score(s,x,y)\n",
    "print(s6)\n",
    "print(s6.mean())\n",
    "print('Difference between R2 score and cross validation score: ',r2_score(y_test,preds)-s6.mean())"
   ]
  },
  {
   "cell_type": "code",
   "execution_count": 82,
   "id": "56ffff23",
   "metadata": {},
   "outputs": [
    {
     "name": "stdout",
     "output_type": "stream",
     "text": [
      "[0.87665985 0.80510939 0.88121711 0.84915641 0.86334098]\n",
      "0.8550967495967855\n",
      "Difference between R2 score and cross validation score:  0.07068872680559057\n"
     ]
    }
   ],
   "source": [
    "s7=cross_val_score(gbr,x,y)\n",
    "print(s7)\n",
    "print(s7.mean())\n",
    "print('Difference between R2 score and cross validation score: ',r2_score(y_test,predgbr)-s7.mean())"
   ]
  },
  {
   "cell_type": "markdown",
   "id": "9794400d",
   "metadata": {},
   "source": [
    "Gradient Boosting Regression is the best model"
   ]
  },
  {
   "cell_type": "code",
   "execution_count": 83,
   "id": "087e9ad1",
   "metadata": {},
   "outputs": [],
   "source": [
    "final_model=gbr"
   ]
  },
  {
   "cell_type": "code",
   "execution_count": 84,
   "id": "36896871",
   "metadata": {},
   "outputs": [
    {
     "data": {
      "text/plain": [
       "['FinalModel.pkl']"
      ]
     },
     "execution_count": 84,
     "metadata": {},
     "output_type": "execute_result"
    }
   ],
   "source": [
    "import joblib\n",
    "filename = \"FinalModel.pkl\"\n",
    "joblib.dump(final_model, filename)"
   ]
  },
  {
   "cell_type": "code",
   "execution_count": null,
   "id": "6314faec",
   "metadata": {},
   "outputs": [],
   "source": []
  }
 ],
 "metadata": {
  "kernelspec": {
   "display_name": "Python 3 (ipykernel)",
   "language": "python",
   "name": "python3"
  },
  "language_info": {
   "codemirror_mode": {
    "name": "ipython",
    "version": 3
   },
   "file_extension": ".py",
   "mimetype": "text/x-python",
   "name": "python",
   "nbconvert_exporter": "python",
   "pygments_lexer": "ipython3",
   "version": "3.11.7"
  }
 },
 "nbformat": 4,
 "nbformat_minor": 5
}
